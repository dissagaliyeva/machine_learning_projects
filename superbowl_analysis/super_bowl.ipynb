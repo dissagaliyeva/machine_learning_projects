{
 "cells": [
  {
   "metadata": {
    "dc": {
     "key": "3"
    },
    "deletable": false,
    "editable": false,
    "run_control": {
     "frozen": true
    },
    "tags": [
     "context"
    ]
   },
   "cell_type": "markdown",
   "source": [
    "## 1. TV, halftime shows, and the Big Game\n",
    "<p>Whether or not you like football, the Super Bowl is a spectacle. There's a little something for everyone at your Super Bowl party. Drama in the form of blowouts, comebacks, and controversy for the sports fan. There are the ridiculously expensive ads, some hilarious, others gut-wrenching, thought-provoking, and weird. The half-time shows with the biggest musicians in the world, sometimes <a href=\"https://youtu.be/ZD1QrIe--_Y?t=14\">riding giant mechanical tigers</a> or <a href=\"https://youtu.be/mjrdywp5nyE?t=62\">leaping from the roof of the stadium</a>. It's a show, baby. And in this notebook, we're going to find out how some of the elements of this show interact with each other. After exploring and cleaning our data a little, we're going to answer questions like:</p>\n",
    "<ul>\n",
    "<li>What are the most extreme game outcomes?</li>\n",
    "<li>How does the game affect television viewership?</li>\n",
    "<li>How have viewership, TV ratings, and ad cost evolved over time?</li>\n",
    "<li>Who are the most prolific musicians in terms of halftime show performances?</li>\n",
    "</ul>\n",
    "<p><img src=\"https://assets.datacamp.com/production/project_684/img/left_shark.jpg\" alt=\"Left Shark Steals The Show\">\n",
    "<em><a href=\"https://www.flickr.com/photos/huntleypaton/16464994135/in/photostream/\">Left Shark Steals The Show</a>. Katy Perry performing at halftime of Super Bowl XLIX. Photo by Huntley Paton. Attribution-ShareAlike 2.0 Generic (CC BY-SA 2.0).</em></p>\n",
    "<p>The dataset we'll use was <a href=\"https://en.wikipedia.org/wiki/Web_scraping\">scraped</a> and polished from Wikipedia. It is made up of three CSV files, one with <a href=\"https://en.wikipedia.org/wiki/List_of_Super_Bowl_champions\">game data</a>, one with <a href=\"https://en.wikipedia.org/wiki/Super_Bowl_television_ratings\">TV data</a>, and one with <a href=\"https://en.wikipedia.org/wiki/List_of_Super_Bowl_halftime_shows\">halftime musician data</a> for all 52 Super Bowls through 2018. Let's take a look, using <code>display()</code> instead of <code>print()</code> since its output is much prettier in Jupyter Notebooks.</p>"
   ]
  },
  {
   "metadata": {
    "dc": {
     "key": "3"
    },
    "tags": [
     "sample_code"
    ],
    "scrolled": true,
    "trusted": true
   },
   "cell_type": "code",
   "source": [
    "# Import pandas\n",
    "import pandas as pd\n",
    "import seaborn as sns\n",
    "import matplotlib.pyplot as plt\n",
    "\n",
    "%matplotlib inline\n",
    "\n",
    "# Load the CSV data into DataFrames\n",
    "super_bowls = pd.read_csv('datasets/super_bowls.csv')\n",
    "tv = pd.read_csv('datasets/tv.csv')\n",
    "halftime_musicians = pd.read_csv('datasets/halftime_musicians.csv')\n",
    "\n",
    "# Display the first five rows of each DataFrame\n",
    "print(super_bowls.head())\n",
    "print(tv.head())\n",
    "print(halftime_musicians.head())"
   ],
   "execution_count": 3,
   "outputs": [
    {
     "name": "stdout",
     "output_type": "stream",
     "text": [
      "         date  super_bowl                          venue             city  \\\n",
      "0  2018-02-04          52              U.S. Bank Stadium      Minneapolis   \n",
      "1  2017-02-05          51                    NRG Stadium          Houston   \n",
      "2  2016-02-07          50                 Levi's Stadium      Santa Clara   \n",
      "3  2015-02-01          49  University of Phoenix Stadium         Glendale   \n",
      "4  2014-02-02          48                MetLife Stadium  East Rutherford   \n",
      "\n",
      "        state  attendance           team_winner  winning_pts     qb_winner_1  \\\n",
      "0   Minnesota       67612   Philadelphia Eagles           41      Nick Foles   \n",
      "1       Texas       70807  New England Patriots           34       Tom Brady   \n",
      "2  California       71088        Denver Broncos           24  Peyton Manning   \n",
      "3     Arizona       70288  New England Patriots           28       Tom Brady   \n",
      "4  New Jersey       82529      Seattle Seahawks           43  Russell Wilson   \n",
      "\n",
      "  qb_winner_2    coach_winner            team_loser  losing_pts  \\\n",
      "0         NaN   Doug Pederson  New England Patriots          33   \n",
      "1         NaN  Bill Belichick       Atlanta Falcons          28   \n",
      "2         NaN     Gary Kubiak     Carolina Panthers          10   \n",
      "3         NaN  Bill Belichick      Seattle Seahawks          24   \n",
      "4         NaN    Pete Carroll        Denver Broncos           8   \n",
      "\n",
      "       qb_loser_1 qb_loser_2     coach_loser  combined_pts  difference_pts  \n",
      "0       Tom Brady        NaN  Bill Belichick            74               8  \n",
      "1       Matt Ryan        NaN       Dan Quinn            62               6  \n",
      "2      Cam Newton        NaN      Ron Rivera            34              14  \n",
      "3  Russell Wilson        NaN    Pete Carroll            52               4  \n",
      "4  Peyton Manning        NaN        John Fox            51              35  \n",
      "   super_bowl network  avg_us_viewers  total_us_viewers  rating_household  \\\n",
      "0          52     NBC       103390000               NaN              43.1   \n",
      "1          51     Fox       111319000       172000000.0              45.3   \n",
      "2          50     CBS       111864000       167000000.0              46.6   \n",
      "3          49     NBC       114442000       168000000.0              47.5   \n",
      "4          48     Fox       112191000       167000000.0              46.7   \n",
      "\n",
      "   share_household  rating_18_49  share_18_49  ad_cost  \n",
      "0               68          33.4         78.0  5000000  \n",
      "1               73          37.1         79.0  5000000  \n",
      "2               72          37.7         79.0  5000000  \n",
      "3               71          39.1         79.0  4500000  \n",
      "4               69          39.3         77.0  4000000  \n",
      "   super_bowl                               musician  num_songs\n",
      "0          52                      Justin Timberlake       11.0\n",
      "1          52  University of Minnesota Marching Band        1.0\n",
      "2          51                              Lady Gaga        7.0\n",
      "3          50                               Coldplay        6.0\n",
      "4          50                                Beyoncé        3.0\n"
     ]
    }
   ]
  },
  {
   "metadata": {
    "dc": {
     "key": "10"
    },
    "deletable": false,
    "editable": false,
    "run_control": {
     "frozen": true
    },
    "tags": [
     "context"
    ]
   },
   "cell_type": "markdown",
   "source": [
    "## 2. Taking note of dataset issues\n",
    "<p>For the Super Bowl game data, we can see the dataset appears whole except for missing values in the backup quarterback columns (<code>qb_winner_2</code> and <code>qb_loser_2</code>), which make sense given most starting QBs in the Super Bowl (<code>qb_winner_1</code> and <code>qb_loser_1</code>) play the entire game.</p>\n",
    "<p>From the visual inspection of TV and halftime musicians data, there is only one missing value displayed, but I've got a hunch there are more. The Super Bowl goes all the way back to 1967, and the more granular columns (e.g. the number of songs for halftime musicians) probably weren't tracked reliably over time. Wikipedia is great but not perfect.</p>\n",
    "<p>An inspection of the <code>.info()</code> output for <code>tv</code> and <code>halftime_musicians</code> shows us that there are multiple columns with null values.</p>"
   ]
  },
  {
   "metadata": {
    "dc": {
     "key": "10"
    },
    "tags": [
     "sample_code"
    ],
    "trusted": true
   },
   "cell_type": "code",
   "source": [
    "# Summary of the TV data to inspect\n",
    "tv.info()\n",
    "\n",
    "print('\\n')\n",
    "\n",
    "# Summary of the halftime musician data to inspect\n",
    "halftime_musicians.info()"
   ],
   "execution_count": 4,
   "outputs": [
    {
     "name": "stdout",
     "output_type": "stream",
     "text": [
      "<class 'pandas.core.frame.DataFrame'>\n",
      "RangeIndex: 53 entries, 0 to 52\n",
      "Data columns (total 9 columns):\n",
      " #   Column            Non-Null Count  Dtype  \n",
      "---  ------            --------------  -----  \n",
      " 0   super_bowl        53 non-null     int64  \n",
      " 1   network           53 non-null     object \n",
      " 2   avg_us_viewers    53 non-null     int64  \n",
      " 3   total_us_viewers  15 non-null     float64\n",
      " 4   rating_household  53 non-null     float64\n",
      " 5   share_household   53 non-null     int64  \n",
      " 6   rating_18_49      15 non-null     float64\n",
      " 7   share_18_49       6 non-null      float64\n",
      " 8   ad_cost           53 non-null     int64  \n",
      "dtypes: float64(4), int64(4), object(1)\n",
      "memory usage: 3.9+ KB\n",
      "\n",
      "\n",
      "<class 'pandas.core.frame.DataFrame'>\n",
      "RangeIndex: 134 entries, 0 to 133\n",
      "Data columns (total 3 columns):\n",
      " #   Column      Non-Null Count  Dtype  \n",
      "---  ------      --------------  -----  \n",
      " 0   super_bowl  134 non-null    int64  \n",
      " 1   musician    134 non-null    object \n",
      " 2   num_songs   88 non-null     float64\n",
      "dtypes: float64(1), int64(1), object(1)\n",
      "memory usage: 3.3+ KB\n"
     ]
    }
   ]
  },
  {
   "metadata": {
    "dc": {
     "key": "17"
    },
    "deletable": false,
    "editable": false,
    "run_control": {
     "frozen": true
    },
    "tags": [
     "context"
    ]
   },
   "cell_type": "markdown",
   "source": [
    "## 3. Combined points distribution\n",
    "<p>For the TV data, the following columns have missing values and a lot of them:</p>\n",
    "<ul>\n",
    "<li><code>total_us_viewers</code> (amount of U.S. viewers who watched at least some part of the broadcast)</li>\n",
    "<li><code>rating_18_49</code> (average % of U.S. adults 18-49 who live in a household with a TV that were watching for the entire broadcast)</li>\n",
    "<li><code>share_18_49</code> (average % of U.S. adults 18-49 who live in a household with a TV <em>in use</em> that were watching for the entire broadcast)</li>\n",
    "</ul>\n",
    "<p>For the halftime musician data, there are missing numbers of songs performed (<code>num_songs</code>) for about a third of the performances.</p>\n",
    "<p>There are a lot of potential reasons for these missing values. Was the data ever tracked? Was it lost in history? Is the research effort to make this data whole worth it? Maybe. Watching every Super Bowl halftime show to get song counts would be pretty fun. But we don't have the time to do that kind of stuff now! Let's take note of where the dataset isn't perfect and start uncovering some insights.</p>\n",
    "<p>Let's start by looking at combined points for each Super Bowl by visualizing the distribution. Let's also pinpoint the Super Bowls with the highest and lowest scores.</p>"
   ]
  },
  {
   "metadata": {
    "dc": {
     "key": "17"
    },
    "tags": [
     "sample_code"
    ],
    "trusted": true
   },
   "cell_type": "code",
   "source": [
    "sns.set()\n",
    "\n",
    "# Plot a histogram of combined points\n",
    "plt.xlabel('Combined Points')\n",
    "plt.ylabel('Number of Super Bowls')\n",
    "plt.hist(super_bowls.combined_pts)\n",
    "plt.show()\n",
    "\n",
    "# Display the Super Bowls with the highest and lowest combined scores\n",
    "print(super_bowls[super_bowls['combined_pts'] > 70])\n",
    "print(super_bowls[super_bowls['combined_pts'] < 25])\n",
    "\n"
   ],
   "execution_count": 5,
   "outputs": [
    {
     "data": {
      "text/plain": "<Figure size 432x288 with 1 Axes>",
      "image/png": "[encoded data removed]"
     },
     "metadata": {},
     "output_type": "display_data"
    },
    {
     "name": "stdout",
     "output_type": "stream",
     "text": [
      "          date  super_bowl               venue           city      state  \\\n",
      "0   2018-02-04          52   U.S. Bank Stadium    Minneapolis  Minnesota   \n",
      "23  1995-01-29          29  Joe Robbie Stadium  Miami Gardens    Florida   \n",
      "\n",
      "    attendance          team_winner  winning_pts  qb_winner_1 qb_winner_2  \\\n",
      "0        67612  Philadelphia Eagles           41   Nick Foles         NaN   \n",
      "23       74107  San Francisco 49ers           49  Steve Young         NaN   \n",
      "\n",
      "      coach_winner            team_loser  losing_pts      qb_loser_1  \\\n",
      "0    Doug Pederson  New England Patriots          33       Tom Brady   \n",
      "23  George Seifert    San Diego Chargers          26  Stan Humphreys   \n",
      "\n",
      "   qb_loser_2     coach_loser  combined_pts  difference_pts  \n",
      "0         NaN  Bill Belichick            74               8  \n",
      "23        NaN      Bobby Ross            75              23  \n",
      "          date  super_bowl              venue         city       state  \\\n",
      "43  1975-01-12           9     Tulane Stadium  New Orleans   Louisiana   \n",
      "45  1973-01-14           7  Memorial Coliseum  Los Angeles  California   \n",
      "49  1969-01-12           3        Orange Bowl        Miami     Florida   \n",
      "\n",
      "    attendance          team_winner  winning_pts     qb_winner_1 qb_winner_2  \\\n",
      "43       80997  Pittsburgh Steelers           16  Terry Bradshaw         NaN   \n",
      "45       90182       Miami Dolphins           14      Bob Griese         NaN   \n",
      "49       75389        New York Jets           16      Joe Namath         NaN   \n",
      "\n",
      "   coach_winner           team_loser  losing_pts      qb_loser_1  \\\n",
      "43   Chuck Noll    Minnesota Vikings           6  Fran Tarkenton   \n",
      "45    Don Shula  Washington Redskins           7     Bill Kilmer   \n",
      "49  Weeb Ewbank      Baltimore Colts           7    Earl Morrall   \n",
      "\n",
      "       qb_loser_2   coach_loser  combined_pts  difference_pts  \n",
      "43            NaN     Bud Grant            22              10  \n",
      "45            NaN  George Allen            21               7  \n",
      "49  Johnny Unitas     Don Shula            23               9  \n"
     ]
    }
   ]
  },
  {
   "metadata": {
    "dc": {
     "key": "24"
    },
    "deletable": false,
    "editable": false,
    "run_control": {
     "frozen": true
    },
    "tags": [
     "context"
    ]
   },
   "cell_type": "markdown",
   "source": [
    "## 4. Point difference distribution\n",
    "<p>Most combined scores are around 40-50 points, with the extremes being roughly equal distance away in opposite directions. Going up to the highest combined scores at 74 and 75, we find two games featuring dominant quarterback performances. One even happened recently in 2018's Super Bowl LII where Tom Brady's Patriots lost to Nick Foles' underdog Eagles 41-33 for a combined score of 74.</p>\n",
    "<p>Going down to the lowest combined scores, we have Super Bowl III and VII, which featured tough defenses that dominated. We also have Super Bowl IX in New Orleans in 1975, whose 16-6 score can be attributed to inclement weather. The field was slick from overnight rain, and it was cold at 46 °F (8 °C), making it hard for the Steelers and Vikings to do much offensively. This was the second-coldest Super Bowl ever and the last to be played in inclement weather for over 30 years. The NFL realized people like points, I guess.</p>\n",
    "<p><em>UPDATE: In Super Bowl LIII in 2019, the Patriots and Rams broke the record for the lowest-scoring Super Bowl with a combined score of 16 points (13-3 for the Patriots).</em></p>\n",
    "<p>Let's take a look at point <em>difference</em> now.</p>"
   ]
  },
  {
   "metadata": {
    "dc": {
     "key": "24"
    },
    "tags": [
     "sample_code"
    ],
    "trusted": true
   },
   "cell_type": "code",
   "source": [
    "# Plot a histogram of point differences\n",
    "plt.hist(super_bowls.difference_pts)\n",
    "plt.xlabel('Point Difference')\n",
    "plt.ylabel('Number of Super Bowls')\n",
    "plt.show()\n",
    "\n",
    "# Display the closest game(s) and biggest blowouts\n",
    "print(super_bowls[super_bowls.difference_pts == 1])\n",
    "print(super_bowls[super_bowls.difference_pts >= 35])"
   ],
   "execution_count": 6,
   "outputs": [
    {
     "data": {
      "text/plain": "<Figure size 432x288 with 1 Axes>",
      "image/png": "[encoded data removed]"
     },
     "metadata": {},
     "output_type": "display_data"
    },
    {
     "name": "stdout",
     "output_type": "stream",
     "text": [
      "          date  super_bowl          venue   city    state  attendance  \\\n",
      "27  1991-01-27          25  Tampa Stadium  Tampa  Florida       73813   \n",
      "\n",
      "        team_winner  winning_pts     qb_winner_1 qb_winner_2   coach_winner  \\\n",
      "27  New York Giants           20  Jeff Hostetler         NaN  Bill Parcells   \n",
      "\n",
      "       team_loser  losing_pts qb_loser_1 qb_loser_2 coach_loser  combined_pts  \\\n",
      "27  Buffalo Bills          19  Jim Kelly        NaN   Marv Levy            39   \n",
      "\n",
      "    difference_pts  \n",
      "27               1  \n",
      "          date  super_bowl                venue             city       state  \\\n",
      "4   2014-02-02          48      MetLife Stadium  East Rutherford  New Jersey   \n",
      "25  1993-01-31          27            Rose Bowl         Pasadena  California   \n",
      "28  1990-01-28          24  Louisiana Superdome      New Orleans   Louisiana   \n",
      "32  1986-01-26          20  Louisiana Superdome      New Orleans   Louisiana   \n",
      "\n",
      "    attendance          team_winner  winning_pts     qb_winner_1 qb_winner_2  \\\n",
      "4        82529     Seattle Seahawks           43  Russell Wilson         NaN   \n",
      "25       98374       Dallas Cowboys           52     Troy Aikman         NaN   \n",
      "28       72919  San Francisco 49ers           55     Joe Montana         NaN   \n",
      "32       73818        Chicago Bears           46     Jim McMahon         NaN   \n",
      "\n",
      "      coach_winner            team_loser  losing_pts      qb_loser_1  \\\n",
      "4     Pete Carroll        Denver Broncos           8  Peyton Manning   \n",
      "25   Jimmy Johnson         Buffalo Bills          17       Jim Kelly   \n",
      "28  George Seifert        Denver Broncos          10      John Elway   \n",
      "32      Mike Ditka  New England Patriots          10      Tony Eason   \n",
      "\n",
      "      qb_loser_2    coach_loser  combined_pts  difference_pts  \n",
      "4            NaN       John Fox            51              35  \n",
      "25   Frank Reich      Marv Levy            69              35  \n",
      "28           NaN     Dan Reeves            65              45  \n",
      "32  Steve Grogan  Raymond Berry            56              36  \n"
     ]
    }
   ]
  },
  {
   "metadata": {
    "dc": {
     "key": "31"
    },
    "deletable": false,
    "editable": false,
    "run_control": {
     "frozen": true
    },
    "tags": [
     "context"
    ]
   },
   "cell_type": "markdown",
   "source": [
    "## 5. Do blowouts translate to lost viewers?\n",
    "<p>The vast majority of Super Bowls are close games. Makes sense. Both teams are likely to be deserving if they've made it this far. The closest game ever was when the Buffalo Bills lost to the New York Giants by 1 point in 1991, which was  best remembered for Scott Norwood's last-second missed field goal attempt that went <em><a href=\"https://www.youtube.com/watch?v=RPFZCGgjDSg\">wide right</a></em>, kicking off four Bills Super Bowl losses in a row. Poor Scott. The biggest point discrepancy ever was 45 points (!) where Hall of Famer Joe Montana's led the San Francisco 49ers to victory in 1990, one year before the closest game ever.</p>\n",
    "<p>I remember watching the Seahawks crush the Broncos by 35 points (43-8) in 2014, which was a boring experience in my opinion. The game was never really close. I'm pretty sure we changed the channel at the end of the third quarter. Let's combine our game data and TV to see if this is a universal phenomenon. Do large point differences translate to lost viewers? We can plot <a href=\"https://en.wikipedia.org/wiki/Nielsen_ratings\">household share</a> <em>(average percentage of U.S. households with a TV in use that were watching for the entire broadcast)</em> vs. point difference to find out.</p>"
   ]
  },
  {
   "metadata": {
    "dc": {
     "key": "31"
    },
    "tags": [
     "sample_code"
    ],
    "trusted": true
   },
   "cell_type": "code",
   "source": [
    "# Join game and TV data, filtering out SB I because it was split over two networks\n",
    "games_tv = pd.merge(tv[tv['super_bowl'] > 1], super_bowls, on='super_bowl')\n",
    "\n",
    "print(games_tv)\n",
    "print(super_bowls)\n",
    "\n",
    "# Create a scatter plot with a linear regression model fit\n",
    "sns.regplot(x=\"difference_pts\", y=\"share_household\", data=games_tv)"
   ],
   "execution_count": 7,
   "outputs": [
    {
     "name": "stdout",
     "output_type": "stream",
     "text": [
      "    super_bowl network  avg_us_viewers  total_us_viewers  rating_household  \\\n",
      "0           52     NBC       103390000               NaN              43.1   \n",
      "1           51     Fox       111319000       172000000.0              45.3   \n",
      "2           50     CBS       111864000       167000000.0              46.6   \n",
      "3           49     NBC       114442000       168000000.0              47.5   \n",
      "4           48     Fox       112191000       167000000.0              46.7   \n",
      "5           47     CBS       108693000       164100000.0              46.3   \n",
      "6           46     NBC       111346000       163500000.0              47.0   \n",
      "7           45     Fox       111041000       162900000.0              46.0   \n",
      "8           44     CBS       106476000       153400000.0              45.0   \n",
      "9           43     NBC        98732000       151600000.0              42.0   \n",
      "10          42     Fox        97448000       148300000.0              43.1   \n",
      "11          41     CBS        93184000       139800000.0              42.6   \n",
      "12          40     ABC        90745000       141400000.0              41.6   \n",
      "13          39     Fox        86072000               NaN              41.1   \n",
      "14          38     CBS        89795000       144400000.0              41.4   \n",
      "15          37     ABC        88637000       138500000.0              40.7   \n",
      "16          36     Fox        86801000               NaN              40.4   \n",
      "17          35     CBS        84335000               NaN              40.4   \n",
      "18          34     ABC        88465000               NaN              43.3   \n",
      "19          33     Fox        83720000               NaN              40.2   \n",
      "20          32     NBC        90000000               NaN              44.5   \n",
      "21          31     Fox        87870000               NaN              43.3   \n",
      "22          30     NBC        94080000               NaN              46.0   \n",
      "23          29     ABC        83420000               NaN              41.3   \n",
      "24          28     NBC        90000000               NaN              45.5   \n",
      "25          27     NBC        90990000               NaN              45.1   \n",
      "26          26     CBS        79590000               NaN              40.3   \n",
      "27          25     ABC        79510000               NaN              41.9   \n",
      "28          24     CBS        73852000               NaN              39.0   \n",
      "29          23     NBC        81590000               NaN              43.5   \n",
      "30          22     ABC        80140000               NaN              41.9   \n",
      "31          21     CBS        87190000               NaN              45.8   \n",
      "32          20     NBC        92570000               NaN              48.3   \n",
      "33          19     ABC        85530000               NaN              46.4   \n",
      "34          18     CBS        77620000               NaN              46.4   \n",
      "35          17     NBC        81770000               NaN              48.6   \n",
      "36          16     CBS        85240000               NaN              49.1   \n",
      "37          15     NBC        68290000               NaN              44.4   \n",
      "38          14     CBS        76240000               NaN              46.3   \n",
      "39          13     NBC        74740000               NaN              47.1   \n",
      "40          12     CBS        78940000               NaN              47.2   \n",
      "41          11     NBC        62050000               NaN              44.4   \n",
      "42          10     CBS        57710000               NaN              42.3   \n",
      "43           9     NBC        56050000               NaN              42.4   \n",
      "44           8     CBS        51700000               NaN              41.6   \n",
      "45           7     NBC        53320000               NaN              42.7   \n",
      "46           6     CBS        56640000               NaN              44.2   \n",
      "47           5     NBC        46040000               NaN              39.9   \n",
      "48           4     CBS        44270000               NaN              39.4   \n",
      "49           3     NBC        41660000               NaN              36.0   \n",
      "50           2     CBS        39120000               NaN              36.8   \n",
      "\n",
      "    share_household  rating_18_49  share_18_49  ad_cost        date  ...  \\\n",
      "0                68          33.4         78.0  5000000  2018-02-04  ...   \n",
      "1                73          37.1         79.0  5000000  2017-02-05  ...   \n",
      "2                72          37.7         79.0  5000000  2016-02-07  ...   \n",
      "3                71          39.1         79.0  4500000  2015-02-01  ...   \n",
      "4                69          39.3         77.0  4000000  2014-02-02  ...   \n",
      "5                69          39.7         77.0  4000000  2013-02-03  ...   \n",
      "6                71          40.5          NaN  3500000  2012-02-05  ...   \n",
      "7                69          39.9          NaN  3100000  2011-02-06  ...   \n",
      "8                68          38.6          NaN  2800000  2010-02-07  ...   \n",
      "9                64          36.7          NaN  3000000  2009-02-01  ...   \n",
      "10               65          37.5          NaN  2699963  2008-02-03  ...   \n",
      "11               64          35.2          NaN  2385365  2007-02-04  ...   \n",
      "12               62           NaN          NaN  2500000  2006-02-05  ...   \n",
      "13               62           NaN          NaN  2400000  2005-02-06  ...   \n",
      "14               63           NaN          NaN  2302200  2004-02-01  ...   \n",
      "15               61           NaN          NaN  2200000  2003-01-26  ...   \n",
      "16               61           NaN          NaN  2200000  2002-02-03  ...   \n",
      "17               61           NaN          NaN  2200000  2001-01-28  ...   \n",
      "18               63          37.9          NaN  2100000  2000-01-30  ...   \n",
      "19               61          36.4          NaN  1600000  1999-01-31  ...   \n",
      "20               67           NaN          NaN  1291100  1998-01-25  ...   \n",
      "21               65           NaN          NaN  1200000  1997-01-26  ...   \n",
      "22               68          41.2          NaN  1085000  1996-01-28  ...   \n",
      "23               62           NaN          NaN  1150000  1995-01-29  ...   \n",
      "24               66           NaN          NaN   900000  1994-01-30  ...   \n",
      "25               66           NaN          NaN   850000  1993-01-31  ...   \n",
      "26               61           NaN          NaN   850000  1992-01-26  ...   \n",
      "27               63           NaN          NaN   800000  1991-01-27  ...   \n",
      "28               67           NaN          NaN   700400  1990-01-28  ...   \n",
      "29               68           NaN          NaN   675000  1989-01-22  ...   \n",
      "30               62           NaN          NaN   645000  1988-01-31  ...   \n",
      "31               66           NaN          NaN   600000  1987-01-25  ...   \n",
      "32               70           NaN          NaN   550000  1986-01-26  ...   \n",
      "33               63           NaN          NaN   525000  1985-01-20  ...   \n",
      "34               71           NaN          NaN   368200  1984-01-22  ...   \n",
      "35               69           NaN          NaN   400000  1983-01-30  ...   \n",
      "36               73           NaN          NaN   324300  1982-01-24  ...   \n",
      "37               63           NaN          NaN   275000  1981-01-25  ...   \n",
      "38               67           NaN          NaN   222000  1980-01-20  ...   \n",
      "39               74           NaN          NaN   185000  1979-01-21  ...   \n",
      "40               67           NaN          NaN   162300  1978-01-15  ...   \n",
      "41               73           NaN          NaN   125000  1977-01-09  ...   \n",
      "42               78           NaN          NaN   110000  1976-01-18  ...   \n",
      "43               72           NaN          NaN   107000  1975-01-12  ...   \n",
      "44               73           NaN          NaN   103500  1974-01-13  ...   \n",
      "45               72           NaN          NaN    88100  1973-01-14  ...   \n",
      "46               74           NaN          NaN    86100  1972-01-16  ...   \n",
      "47               75           NaN          NaN    72500  1971-01-17  ...   \n",
      "48               69           NaN          NaN    78200  1970-01-11  ...   \n",
      "49               70           NaN          NaN    55000  1969-01-12  ...   \n",
      "50               68           NaN          NaN    54500  1968-01-14  ...   \n",
      "\n",
      "           qb_winner_1      qb_winner_2    coach_winner            team_loser  \\\n",
      "0           Nick Foles              NaN   Doug Pederson  New England Patriots   \n",
      "1            Tom Brady              NaN  Bill Belichick       Atlanta Falcons   \n",
      "2       Peyton Manning              NaN     Gary Kubiak     Carolina Panthers   \n",
      "3            Tom Brady              NaN  Bill Belichick      Seattle Seahawks   \n",
      "4       Russell Wilson              NaN    Pete Carroll        Denver Broncos   \n",
      "5           Joe Flacco              NaN   John Harbaugh   San Francisco 49ers   \n",
      "6          Eli Manning              NaN    Tom Coughlin  New England Patriots   \n",
      "7        Aaron Rodgers              NaN   Mike McCarthy   Pittsburgh Steelers   \n",
      "8           Drew Brees              NaN     Sean Payton    Indianapolis Colts   \n",
      "9   Ben Roethlisberger              NaN     Mike Tomlin     Arizona Cardinals   \n",
      "10         Eli Manning              NaN    Tom Coughlin  New England Patriots   \n",
      "11      Peyton Manning              NaN      Tony Dungy         Chicago Bears   \n",
      "12  Ben Roethlisberger              NaN     Bill Cowher      Seattle Seahawks   \n",
      "13           Tom Brady              NaN  Bill Belichick   Philadelphia Eagles   \n",
      "14           Tom Brady              NaN  Bill Belichick     Carolina Panthers   \n",
      "15        Brad Johnson              NaN      Jon Gruden       Oakland Raiders   \n",
      "16           Tom Brady              NaN  Bill Belichick        St. Louis Rams   \n",
      "17        Trent Dilfer              NaN   Brian Billick       New York Giants   \n",
      "18         Kurt Warner              NaN    Dick Vermeil      Tennessee Titans   \n",
      "19          John Elway              NaN   Mike Shanahan       Atlanta Falcons   \n",
      "20          John Elway              NaN   Mike Shanahan     Green Bay Packers   \n",
      "21         Brett Favre              NaN   Mike Holmgren  New England Patriots   \n",
      "22         Troy Aikman              NaN   Barry Switzer   Pittsburgh Steelers   \n",
      "23         Steve Young              NaN  George Seifert    San Diego Chargers   \n",
      "24         Troy Aikman              NaN   Jimmy Johnson         Buffalo Bills   \n",
      "25         Troy Aikman              NaN   Jimmy Johnson         Buffalo Bills   \n",
      "26         Mark Rypien              NaN       Joe Gibbs         Buffalo Bills   \n",
      "27      Jeff Hostetler              NaN   Bill Parcells         Buffalo Bills   \n",
      "28         Joe Montana              NaN  George Seifert        Denver Broncos   \n",
      "29         Joe Montana              NaN      Bill Walsh    Cincinnati Bengals   \n",
      "30       Doug Williams              NaN       Joe Gibbs        Denver Broncos   \n",
      "31          Phil Simms              NaN   Bill Parcells        Denver Broncos   \n",
      "32         Jim McMahon              NaN      Mike Ditka  New England Patriots   \n",
      "33         Joe Montano              NaN      Bill Walsh        Miami Dolphins   \n",
      "34        Jim Plunkett              NaN      Tom Flores   Washington Redskins   \n",
      "35       Joe Theismann              NaN       Joe Gibbs        Miami Dolphins   \n",
      "36         Joe Montana              NaN      Bill Walsh    Cincinnati Bengals   \n",
      "37        Jim Plunkett              NaN      Tom Flores   Philadelphia Eagles   \n",
      "38      Terry Bradshaw              NaN      Chuck Noll      Los Angeles Rams   \n",
      "39      Terry Bradshaw              NaN      Chuck Noll        Dallas Cowboys   \n",
      "40      Roger Staubach              NaN      Tom Landry        Denver Broncos   \n",
      "41       Kenny Stabler              NaN     John Madden     Minnesota Vikings   \n",
      "42      Terry Bradshaw              NaN      Chuck Noll        Dallas Cowboys   \n",
      "43      Terry Bradshaw              NaN      Chuck Noll     Minnesota Vikings   \n",
      "44          Bob Griese              NaN       Don Shula     Minnesota Vikings   \n",
      "45          Bob Griese              NaN       Don Shula   Washington Redskins   \n",
      "46      Roger Staubach              NaN      Tom Landry        Miami Dolphins   \n",
      "47        Earl Morrall    Johnny Unitas  Don McCafferty        Dallas Cowboys   \n",
      "48          Len Dawson  Mike Livingston      Hank Stram     Minnesota Vikings   \n",
      "49          Joe Namath              NaN     Weeb Ewbank       Baltimore Colts   \n",
      "50          Bart Starr              NaN  Vince Lombardi       Oakland Raiders   \n",
      "\n",
      "   losing_pts          qb_loser_1     qb_loser_2     coach_loser combined_pts  \\\n",
      "0          33           Tom Brady            NaN  Bill Belichick           74   \n",
      "1          28           Matt Ryan            NaN       Dan Quinn           62   \n",
      "2          10          Cam Newton            NaN      Ron Rivera           34   \n",
      "3          24      Russell Wilson            NaN    Pete Carroll           52   \n",
      "4           8      Peyton Manning            NaN        John Fox           51   \n",
      "5          31    Colin Kaepernick            NaN    Jim Harbaugh           65   \n",
      "6          17           Tom Brady            NaN  Bill Belichick           38   \n",
      "7          25  Ben Roethlisberger            NaN     Mike Tomlin           56   \n",
      "8          17      Peyton Manning            NaN    Jim Caldwell           48   \n",
      "9          23         Kurt Warner            NaN  Ken Whisenhunt           50   \n",
      "10         14           Tom Brady            NaN  Bill Belichick           31   \n",
      "11         17        Rex Grossman            NaN     Lovie Smith           46   \n",
      "12         10     Matt Hasselbeck            NaN   Mike Holmgren           31   \n",
      "13         21      Donovan McNabb            NaN       Andy Reid           45   \n",
      "14         29       Jake Delhomme            NaN        John Fox           61   \n",
      "15         21         Rich Gannon            NaN   Bill Callahan           69   \n",
      "16         17         Kurt Warner            NaN      Mike Martz           37   \n",
      "17          7       Kerry Collins            NaN      Jim Fassel           41   \n",
      "18         16        Steve McNair            NaN     Jeff Fisher           39   \n",
      "19         19      Chris Chandler            NaN      Dan Reeves           53   \n",
      "20         24         Brett Favre            NaN   Mike Holmgren           55   \n",
      "21         21        Drew Bledsoe            NaN   Bill Parcells           56   \n",
      "22         17      Neil O'Donnell            NaN     Bill Cowher           44   \n",
      "23         26      Stan Humphreys            NaN      Bobby Ross           75   \n",
      "24         13           Jim Kelly            NaN       Marv Levy           43   \n",
      "25         17           Jim Kelly    Frank Reich       Marv Levy           69   \n",
      "26         24           Jim Kelly            NaN       Marv Levy           61   \n",
      "27         19           Jim Kelly            NaN       Marv Levy           39   \n",
      "28         10          John Elway            NaN      Dan Reeves           65   \n",
      "29         16      Boomer Esiason            NaN       Sam Wyche           36   \n",
      "30         10          John Elway            NaN      Dan Reeves           52   \n",
      "31         20          John Elway            NaN      Dan Reeves           59   \n",
      "32         10          Tony Eason   Steve Grogan   Raymond Berry           56   \n",
      "33         16          Dan Marino            NaN       Don Shula           54   \n",
      "34          9       Joe Theismann            NaN       Joe Gibbs           47   \n",
      "35         17       David Woodley            NaN       Don Shula           44   \n",
      "36         21        Ken Anderson            NaN   Forrest Gregg           47   \n",
      "37         10        Ron Jaworski            NaN    Dick Vermeil           37   \n",
      "38         19     Vince Ferragamo            NaN    Ray Malavasi           50   \n",
      "39         31      Roger Staubach            NaN      Tom Landry           66   \n",
      "40         10        Craig Morton            NaN      Red Miller           37   \n",
      "41         14      Fran Tarkenton            NaN       Bud Grant           46   \n",
      "42         17      Roger Staubach            NaN      Tom Landry           38   \n",
      "43          6      Fran Tarkenton            NaN       Bud Grant           22   \n",
      "44          7      Fran Tarkenton            NaN       Bud Grant           31   \n",
      "45          7         Bill Kilmer            NaN    George Allen           21   \n",
      "46          3          Bob Griese            NaN       Don Shula           27   \n",
      "47         13        Craig Morton            NaN      Tom Landry           29   \n",
      "48          7            Joe Kapp            NaN       Bud Grant           30   \n",
      "49          7        Earl Morrall  Johnny Unitas       Don Shula           23   \n",
      "50         14     Daryle Lamonica            NaN      John Rauch           47   \n",
      "\n",
      "   difference_pts  \n",
      "0               8  \n",
      "1               6  \n",
      "2              14  \n",
      "3               4  \n",
      "4              35  \n",
      "5               3  \n",
      "6               4  \n",
      "7               6  \n",
      "8              14  \n",
      "9               4  \n",
      "10              3  \n",
      "11             12  \n",
      "12             11  \n",
      "13              3  \n",
      "14              3  \n",
      "15             27  \n",
      "16              3  \n",
      "17             27  \n",
      "18              7  \n",
      "19             15  \n",
      "20              7  \n",
      "21             14  \n",
      "22             10  \n",
      "23             23  \n",
      "24             17  \n",
      "25             35  \n",
      "26             13  \n",
      "27              1  \n",
      "28             45  \n",
      "29              4  \n",
      "30             32  \n",
      "31             19  \n",
      "32             36  \n",
      "33             22  \n",
      "34             29  \n",
      "35             10  \n",
      "36              5  \n",
      "37             17  \n",
      "38             12  \n",
      "39              4  \n",
      "40             17  \n",
      "41             18  \n",
      "42              4  \n",
      "43             10  \n",
      "44             17  \n",
      "45              7  \n",
      "46             21  \n",
      "47              3  \n",
      "48             16  \n",
      "49              9  \n",
      "50             19  \n",
      "\n",
      "[51 rows x 26 columns]\n",
      "          date  super_bowl                          venue             city  \\\n",
      "0   2018-02-04          52              U.S. Bank Stadium      Minneapolis   \n",
      "1   2017-02-05          51                    NRG Stadium          Houston   \n",
      "2   2016-02-07          50                 Levi's Stadium      Santa Clara   \n",
      "3   2015-02-01          49  University of Phoenix Stadium         Glendale   \n",
      "4   2014-02-02          48                MetLife Stadium  East Rutherford   \n",
      "5   2013-02-03          47        Mercedes-Benz Superdome      New Orleans   \n",
      "6   2012-02-05          46              Lucas Oil Stadium     Indianapolis   \n",
      "7   2011-02-06          45                Cowboys Stadium        Arlington   \n",
      "8   2010-02-07          44               Sun Life Stadium    Miami Gardens   \n",
      "9   2009-02-01          43          Raymond James Stadium            Tampa   \n",
      "10  2008-02-03          42  University of Phoenix Stadium         Glendale   \n",
      "11  2007-02-04          41                Dolphin Stadium    Miami Gardens   \n",
      "12  2006-02-05          40                     Ford Field          Detroit   \n",
      "13  2005-02-06          39                 Alltel Stadium     Jacksonville   \n",
      "14  2004-02-01          38                Reliant Stadium          Houston   \n",
      "15  2003-01-26          37               Qualcomm Stadium        San Diego   \n",
      "16  2002-02-03          36            Louisiana Superdome      New Orleans   \n",
      "17  2001-01-28          35          Raymond James Stadium            Tampa   \n",
      "18  2000-01-30          34                   Georgia Dome          Atlanta   \n",
      "19  1999-01-31          33             Pro Player Stadium    Miami Gardens   \n",
      "20  1998-01-25          32               Qualcomm Stadium        San Diego   \n",
      "21  1997-01-26          31            Louisiana Superdome      New Orleans   \n",
      "22  1996-01-28          30              Sun Devil Stadium            Tempe   \n",
      "23  1995-01-29          29             Joe Robbie Stadium    Miami Gardens   \n",
      "24  1994-01-30          28                   Georgia Dome          Atlanta   \n",
      "25  1993-01-31          27                      Rose Bowl         Pasadena   \n",
      "26  1992-01-26          26                      Metrodome      Minneapolis   \n",
      "27  1991-01-27          25                  Tampa Stadium            Tampa   \n",
      "28  1990-01-28          24            Louisiana Superdome      New Orleans   \n",
      "29  1989-01-22          23             Joe Robbie Stadium    Miami Gardens   \n",
      "30  1988-01-31          22            Jack Murphy Stadium        San Diego   \n",
      "31  1987-01-25          21                      Rose Bowl         Pasadena   \n",
      "32  1986-01-26          20            Louisiana Superdome      New Orleans   \n",
      "33  1985-01-20          19               Stanford Stadium        Palo Alto   \n",
      "34  1984-01-22          18                  Tampa Stadium            Tampa   \n",
      "35  1983-01-30          17                      Rose Bowl         Pasadena   \n",
      "36  1982-01-24          16             Pontiac Silverdome          Pontiac   \n",
      "37  1981-01-25          15            Louisiana Superdome      New Orleans   \n",
      "38  1980-01-20          14                      Rose Bowl         Pasadena   \n",
      "39  1979-01-21          13                    Orange Bowl            Miami   \n",
      "40  1978-01-15          12                      Superdome      New Orleans   \n",
      "41  1977-01-09          11                      Rose Bowl         Pasadena   \n",
      "42  1976-01-18          10                    Orange Bowl            Miami   \n",
      "43  1975-01-12           9                 Tulane Stadium      New Orleans   \n",
      "44  1974-01-13           8                   Rice Stadium          Houston   \n",
      "45  1973-01-14           7              Memorial Coliseum      Los Angeles   \n",
      "46  1972-01-16           6                 Tulane Stadium      New Orleans   \n",
      "47  1971-01-17           5                    Orange Bowl            Miami   \n",
      "48  1970-01-11           4                 Tulane Stadium      New Orleans   \n",
      "49  1969-01-12           3                    Orange Bowl            Miami   \n",
      "50  1968-01-14           2                    Orange Bowl            Miami   \n",
      "51  1967-01-15           1              Memorial Coliseum      Los Angeles   \n",
      "\n",
      "         state  attendance           team_winner  winning_pts  \\\n",
      "0    Minnesota       67612   Philadelphia Eagles           41   \n",
      "1        Texas       70807  New England Patriots           34   \n",
      "2   California       71088        Denver Broncos           24   \n",
      "3      Arizona       70288  New England Patriots           28   \n",
      "4   New Jersey       82529      Seattle Seahawks           43   \n",
      "5    Louisiana       71024      Baltimore Ravens           34   \n",
      "6      Indiana       68658       New York Giants           21   \n",
      "7        Texas      103219     Green Bay Packers           31   \n",
      "8      Florida       74059    New Orleans Saints           31   \n",
      "9      Florida       70774   Pittsburgh Steelers           27   \n",
      "10     Arizona       71101       New York Giants           17   \n",
      "11     Florida       74512    Indianapolis Colts           29   \n",
      "12    Michigan       68206   Pittsburgh Steelers           21   \n",
      "13     Florida       78125  New England Patriots           24   \n",
      "14       Texas       71525  New England Patriots           32   \n",
      "15  California       67603  Tampa Bay Buccaneers           48   \n",
      "16   Louisiana       72922  New England Patriots           20   \n",
      "17     Florida       71921      Baltimore Ravens           34   \n",
      "18     Georgia       72625        St. Louis Rams           23   \n",
      "19     Florida       74803        Denver Broncos           34   \n",
      "20  California       68912        Denver Broncos           31   \n",
      "21   Louisiana       72301     Green Bay Packers           35   \n",
      "22     Arizona       76347        Dallas Cowboys           27   \n",
      "23     Florida       74107   San Francisco 49ers           49   \n",
      "24     Georgia       72817        Dallas Cowboys           30   \n",
      "25  California       98374        Dallas Cowboys           52   \n",
      "26   Minnesota       63130   Washington Redskins           37   \n",
      "27     Florida       73813       New York Giants           20   \n",
      "28   Louisiana       72919   San Francisco 49ers           55   \n",
      "29     Florida       75129   San Francisco 49ers           20   \n",
      "30  California       73302   Washington Redskins           42   \n",
      "31  California      101063       New York Giants           39   \n",
      "32   Louisiana       73818         Chicago Bears           46   \n",
      "33  California       84059   San Francisco 49ers           38   \n",
      "34     Florida       72920   Los Angeles Raiders           38   \n",
      "35  California      103667   Washington Redskins           27   \n",
      "36    Michigan       81270   San Francisco 49ers           26   \n",
      "37   Louisiana       76135       Oakland Raiders           27   \n",
      "38  California      103985   Pittsburgh Steelers           31   \n",
      "39     Florida       79484   Pittsburgh Steelers           35   \n",
      "40   Louisiana       76400        Dallas Cowboys           27   \n",
      "41  California      103438       Oakland Raiders           32   \n",
      "42     Florida       80187   Pittsburgh Steelers           21   \n",
      "43   Louisiana       80997   Pittsburgh Steelers           16   \n",
      "44       Texas       71882        Miami Dolphins           24   \n",
      "45  California       90182        Miami Dolphins           14   \n",
      "46   Louisiana       81023        Dallas Cowboys           24   \n",
      "47     Florida       79204       Baltimore Colts           16   \n",
      "48   Louisiana       80562    Kansas City Chiefs           23   \n",
      "49     Florida       75389         New York Jets           16   \n",
      "50     Florida       75546     Green Bay Packers           33   \n",
      "51  California       61946     Green Bay Packers           35   \n",
      "\n",
      "           qb_winner_1      qb_winner_2    coach_winner            team_loser  \\\n",
      "0           Nick Foles              NaN   Doug Pederson  New England Patriots   \n",
      "1            Tom Brady              NaN  Bill Belichick       Atlanta Falcons   \n",
      "2       Peyton Manning              NaN     Gary Kubiak     Carolina Panthers   \n",
      "3            Tom Brady              NaN  Bill Belichick      Seattle Seahawks   \n",
      "4       Russell Wilson              NaN    Pete Carroll        Denver Broncos   \n",
      "5           Joe Flacco              NaN   John Harbaugh   San Francisco 49ers   \n",
      "6          Eli Manning              NaN    Tom Coughlin  New England Patriots   \n",
      "7        Aaron Rodgers              NaN   Mike McCarthy   Pittsburgh Steelers   \n",
      "8           Drew Brees              NaN     Sean Payton    Indianapolis Colts   \n",
      "9   Ben Roethlisberger              NaN     Mike Tomlin     Arizona Cardinals   \n",
      "10         Eli Manning              NaN    Tom Coughlin  New England Patriots   \n",
      "11      Peyton Manning              NaN      Tony Dungy         Chicago Bears   \n",
      "12  Ben Roethlisberger              NaN     Bill Cowher      Seattle Seahawks   \n",
      "13           Tom Brady              NaN  Bill Belichick   Philadelphia Eagles   \n",
      "14           Tom Brady              NaN  Bill Belichick     Carolina Panthers   \n",
      "15        Brad Johnson              NaN      Jon Gruden       Oakland Raiders   \n",
      "16           Tom Brady              NaN  Bill Belichick        St. Louis Rams   \n",
      "17        Trent Dilfer              NaN   Brian Billick       New York Giants   \n",
      "18         Kurt Warner              NaN    Dick Vermeil      Tennessee Titans   \n",
      "19          John Elway              NaN   Mike Shanahan       Atlanta Falcons   \n",
      "20          John Elway              NaN   Mike Shanahan     Green Bay Packers   \n",
      "21         Brett Favre              NaN   Mike Holmgren  New England Patriots   \n",
      "22         Troy Aikman              NaN   Barry Switzer   Pittsburgh Steelers   \n",
      "23         Steve Young              NaN  George Seifert    San Diego Chargers   \n",
      "24         Troy Aikman              NaN   Jimmy Johnson         Buffalo Bills   \n",
      "25         Troy Aikman              NaN   Jimmy Johnson         Buffalo Bills   \n",
      "26         Mark Rypien              NaN       Joe Gibbs         Buffalo Bills   \n",
      "27      Jeff Hostetler              NaN   Bill Parcells         Buffalo Bills   \n",
      "28         Joe Montana              NaN  George Seifert        Denver Broncos   \n",
      "29         Joe Montana              NaN      Bill Walsh    Cincinnati Bengals   \n",
      "30       Doug Williams              NaN       Joe Gibbs        Denver Broncos   \n",
      "31          Phil Simms              NaN   Bill Parcells        Denver Broncos   \n",
      "32         Jim McMahon              NaN      Mike Ditka  New England Patriots   \n",
      "33         Joe Montano              NaN      Bill Walsh        Miami Dolphins   \n",
      "34        Jim Plunkett              NaN      Tom Flores   Washington Redskins   \n",
      "35       Joe Theismann              NaN       Joe Gibbs        Miami Dolphins   \n",
      "36         Joe Montana              NaN      Bill Walsh    Cincinnati Bengals   \n",
      "37        Jim Plunkett              NaN      Tom Flores   Philadelphia Eagles   \n",
      "38      Terry Bradshaw              NaN      Chuck Noll      Los Angeles Rams   \n",
      "39      Terry Bradshaw              NaN      Chuck Noll        Dallas Cowboys   \n",
      "40      Roger Staubach              NaN      Tom Landry        Denver Broncos   \n",
      "41       Kenny Stabler              NaN     John Madden     Minnesota Vikings   \n",
      "42      Terry Bradshaw              NaN      Chuck Noll        Dallas Cowboys   \n",
      "43      Terry Bradshaw              NaN      Chuck Noll     Minnesota Vikings   \n",
      "44          Bob Griese              NaN       Don Shula     Minnesota Vikings   \n",
      "45          Bob Griese              NaN       Don Shula   Washington Redskins   \n",
      "46      Roger Staubach              NaN      Tom Landry        Miami Dolphins   \n",
      "47        Earl Morrall    Johnny Unitas  Don McCafferty        Dallas Cowboys   \n",
      "48          Len Dawson  Mike Livingston      Hank Stram     Minnesota Vikings   \n",
      "49          Joe Namath              NaN     Weeb Ewbank       Baltimore Colts   \n",
      "50          Bart Starr              NaN  Vince Lombardi       Oakland Raiders   \n",
      "51          Bart Starr              NaN  Vince Lombardi    Kansas City Chiefs   \n",
      "\n",
      "    losing_pts          qb_loser_1     qb_loser_2     coach_loser  \\\n",
      "0           33           Tom Brady            NaN  Bill Belichick   \n",
      "1           28           Matt Ryan            NaN       Dan Quinn   \n",
      "2           10          Cam Newton            NaN      Ron Rivera   \n",
      "3           24      Russell Wilson            NaN    Pete Carroll   \n",
      "4            8      Peyton Manning            NaN        John Fox   \n",
      "5           31    Colin Kaepernick            NaN    Jim Harbaugh   \n",
      "6           17           Tom Brady            NaN  Bill Belichick   \n",
      "7           25  Ben Roethlisberger            NaN     Mike Tomlin   \n",
      "8           17      Peyton Manning            NaN    Jim Caldwell   \n",
      "9           23         Kurt Warner            NaN  Ken Whisenhunt   \n",
      "10          14           Tom Brady            NaN  Bill Belichick   \n",
      "11          17        Rex Grossman            NaN     Lovie Smith   \n",
      "12          10     Matt Hasselbeck            NaN   Mike Holmgren   \n",
      "13          21      Donovan McNabb            NaN       Andy Reid   \n",
      "14          29       Jake Delhomme            NaN        John Fox   \n",
      "15          21         Rich Gannon            NaN   Bill Callahan   \n",
      "16          17         Kurt Warner            NaN      Mike Martz   \n",
      "17           7       Kerry Collins            NaN      Jim Fassel   \n",
      "18          16        Steve McNair            NaN     Jeff Fisher   \n",
      "19          19      Chris Chandler            NaN      Dan Reeves   \n",
      "20          24         Brett Favre            NaN   Mike Holmgren   \n",
      "21          21        Drew Bledsoe            NaN   Bill Parcells   \n",
      "22          17      Neil O'Donnell            NaN     Bill Cowher   \n",
      "23          26      Stan Humphreys            NaN      Bobby Ross   \n",
      "24          13           Jim Kelly            NaN       Marv Levy   \n",
      "25          17           Jim Kelly    Frank Reich       Marv Levy   \n",
      "26          24           Jim Kelly            NaN       Marv Levy   \n",
      "27          19           Jim Kelly            NaN       Marv Levy   \n",
      "28          10          John Elway            NaN      Dan Reeves   \n",
      "29          16      Boomer Esiason            NaN       Sam Wyche   \n",
      "30          10          John Elway            NaN      Dan Reeves   \n",
      "31          20          John Elway            NaN      Dan Reeves   \n",
      "32          10          Tony Eason   Steve Grogan   Raymond Berry   \n",
      "33          16          Dan Marino            NaN       Don Shula   \n",
      "34           9       Joe Theismann            NaN       Joe Gibbs   \n",
      "35          17       David Woodley            NaN       Don Shula   \n",
      "36          21        Ken Anderson            NaN   Forrest Gregg   \n",
      "37          10        Ron Jaworski            NaN    Dick Vermeil   \n",
      "38          19     Vince Ferragamo            NaN    Ray Malavasi   \n",
      "39          31      Roger Staubach            NaN      Tom Landry   \n",
      "40          10        Craig Morton            NaN      Red Miller   \n",
      "41          14      Fran Tarkenton            NaN       Bud Grant   \n",
      "42          17      Roger Staubach            NaN      Tom Landry   \n",
      "43           6      Fran Tarkenton            NaN       Bud Grant   \n",
      "44           7      Fran Tarkenton            NaN       Bud Grant   \n",
      "45           7         Bill Kilmer            NaN    George Allen   \n",
      "46           3          Bob Griese            NaN       Don Shula   \n",
      "47          13        Craig Morton            NaN      Tom Landry   \n",
      "48           7            Joe Kapp            NaN       Bud Grant   \n",
      "49           7        Earl Morrall  Johnny Unitas       Don Shula   \n",
      "50          14     Daryle Lamonica            NaN      John Rauch   \n",
      "51          10          Len Dawson            NaN      Hank Stram   \n",
      "\n",
      "    combined_pts  difference_pts  \n",
      "0             74               8  \n",
      "1             62               6  \n",
      "2             34              14  \n",
      "3             52               4  \n",
      "4             51              35  \n",
      "5             65               3  \n",
      "6             38               4  \n",
      "7             56               6  \n",
      "8             48              14  \n",
      "9             50               4  \n",
      "10            31               3  \n",
      "11            46              12  \n",
      "12            31              11  \n",
      "13            45               3  \n",
      "14            61               3  \n",
      "15            69              27  \n",
      "16            37               3  \n",
      "17            41              27  \n",
      "18            39               7  \n",
      "19            53              15  \n",
      "20            55               7  \n",
      "21            56              14  \n",
      "22            44              10  \n",
      "23            75              23  \n",
      "24            43              17  \n",
      "25            69              35  \n",
      "26            61              13  \n",
      "27            39               1  \n",
      "28            65              45  \n",
      "29            36               4  \n",
      "30            52              32  \n",
      "31            59              19  \n",
      "32            56              36  \n",
      "33            54              22  \n",
      "34            47              29  \n",
      "35            44              10  \n",
      "36            47               5  \n",
      "37            37              17  \n",
      "38            50              12  \n",
      "39            66               4  \n",
      "40            37              17  \n",
      "41            46              18  \n",
      "42            38               4  \n",
      "43            22              10  \n",
      "44            31              17  \n",
      "45            21               7  \n",
      "46            27              21  \n",
      "47            29               3  \n",
      "48            30              16  \n",
      "49            23               9  \n",
      "50            47              19  \n",
      "51            45              25  \n"
     ]
    },
    {
     "data": {
      "text/plain": "<AxesSubplot:xlabel='difference_pts', ylabel='share_household'>"
     },
     "execution_count": 7,
     "metadata": {},
     "output_type": "execute_result"
    },
    {
     "data": {
      "text/plain": "<Figure size 432x288 with 1 Axes>",
      "image/png": "[encoded data removed]"
     },
     "metadata": {},
     "output_type": "display_data"
    }
   ]
  },
  {
   "metadata": {
    "dc": {
     "key": "38"
    },
    "deletable": false,
    "editable": false,
    "run_control": {
     "frozen": true
    },
    "tags": [
     "context"
    ]
   },
   "cell_type": "markdown",
   "source": [
    "## 6. Viewership and the ad industry over time\n",
    "<p>The downward sloping regression line and the 95% confidence interval for that regression <em>suggest</em> that bailing on the game if it is a blowout is common. Though it matches our intuition, we must take it with a grain of salt because the linear relationship in the data is weak due to our small sample size of 52 games.</p>\n",
    "<p>Regardless of the score though, I bet most people stick it out for the halftime show, which is good news for the TV networks and advertisers. A 30-second spot costs a pretty <a href=\"https://www.businessinsider.com/super-bowl-commercials-cost-more-than-eagles-quarterback-earns-2018-1\">\\$5 million</a> now, but has it always been that way? And how have number of viewers and household ratings trended alongside ad cost? We can find out using line plots that share a \"Super Bowl\" x-axis.</p>"
   ]
  },
  {
   "metadata": {
    "dc": {
     "key": "38"
    },
    "tags": [
     "sample_code"
    ],
    "trusted": true
   },
   "cell_type": "code",
   "source": [
    "# Create a figure with 3x1 subplot and activate the top subplot\n",
    "plt.subplot(3, 1, 1)\n",
    "plt.plot(games_tv.super_bowl, games_tv.avg_us_viewers, color='#648FFF')\n",
    "plt.title('Average Number of US Viewers')\n",
    "\n",
    "# Activate the middle subplot\n",
    "plt.subplot(3, 1, 2)\n",
    "plt.plot(games_tv.super_bowl, games_tv.rating_household, color='#DC267F')\n",
    "plt.title('Household Rating')\n",
    " \n",
    "# Activate the bottom subplot\n",
    "plt.subplot(3, 1, 3)\n",
    "plt.plot(games_tv.super_bowl, games_tv.ad_cost, color='#FFB000')\n",
    "plt.title('Ad Cost')\n",
    "plt.xlabel('SUPER BOWL')\n",
    "\n",
    "# Improve the spacing between subplots\n",
    "plt.tight_layout()"
   ],
   "execution_count": 8,
   "outputs": [
    {
     "data": {
      "text/plain": "<Figure size 432x288 with 3 Axes>",
      "image/png": "[encoded data removed]"
     },
     "metadata": {},
     "output_type": "display_data"
    }
   ]
  },
  {
   "metadata": {
    "dc": {
     "key": "45"
    },
    "deletable": false,
    "editable": false,
    "run_control": {
     "frozen": true
    },
    "tags": [
     "context"
    ]
   },
   "cell_type": "markdown",
   "source": [
    "## 7. Halftime shows weren't always this great\n",
    "<p>We can see viewers increased before ad costs did. Maybe the networks weren't very data savvy and were slow to react? Makes sense since DataCamp didn't exist back then.</p>\n",
    "<p>Another hypothesis: maybe halftime shows weren't that good in the earlier years? The modern spectacle of the Super Bowl has a lot to do with the cultural prestige of big halftime acts. I went down a YouTube rabbit hole and it turns out the old ones weren't up to today's standards. Some offenders:</p>\n",
    "<ul>\n",
    "<li><a href=\"https://youtu.be/6wMXHxWO4ns?t=263\">Super Bowl XXVI</a> in 1992: A Frosty The Snowman rap performed by children.</li>\n",
    "<li><a href=\"https://www.youtube.com/watch?v=PKQTL1PYSag\">Super Bowl XXIII</a> in 1989: An Elvis impersonator that did magic tricks and didn't even sing one Elvis song.</li>\n",
    "<li><a href=\"https://youtu.be/oSXMNbK2e98?t=436\">Super Bowl XXI</a> in 1987: Tap dancing ponies. (Okay, that's pretty awesome actually.)</li>\n",
    "</ul>\n",
    "<p>It turns out Michael Jackson's Super Bowl XXVII performance, one of the most watched events in American TV history, was when the NFL realized the value of Super Bowl airtime and decided they needed to sign big name acts from then on out. The halftime shows before MJ indeed weren't that impressive, which we can see by filtering our <code>halftime_musician</code> data.</p>"
   ]
  },
  {
   "metadata": {
    "dc": {
     "key": "45"
    },
    "tags": [
     "sample_code"
    ],
    "trusted": true
   },
   "cell_type": "code",
   "source": [
    "# Display all halftime musicians for Super Bowls up to and including Super Bowl XXVII\n",
    "halftime_musicians[halftime_musicians['super_bowl'] < 28]"
   ],
   "execution_count": 9,
   "outputs": [
    {
     "data": {
      "text/plain": "     super_bowl                                           musician  num_songs\n80           27                                    Michael Jackson        5.0\n81           26                                     Gloria Estefan        2.0\n82           26              University of Minnesota Marching Band        NaN\n83           25                              New Kids on the Block        2.0\n84           24                                      Pete Fountain        1.0\n85           24                                       Doug Kershaw        1.0\n86           24                                        Irma Thomas        1.0\n87           24                    Pride of Nicholls Marching Band        NaN\n88           24                                  The Human Jukebox        NaN\n89           24                                  Pride of Acadiana        NaN\n90           23                                       Elvis Presto        7.0\n91           22                                     Chubby Checker        2.0\n92           22         San Diego State University Marching Aztecs        NaN\n93           22                                     Spirit of Troy        NaN\n94           21     Grambling State University Tiger Marching Band        8.0\n95           21                                     Spirit of Troy        8.0\n96           20                                     Up with People        NaN\n97           19                                       Tops In Blue        NaN\n98           18  The University of Florida Fightin' Gator March...        7.0\n99           18       The Florida State University Marching Chiefs        7.0\n100          17  Los Angeles Unified School District All City H...        NaN\n101          16                                     Up with People        NaN\n102          15                                  The Human Jukebox        NaN\n103          15                                    Helen O'Connell        NaN\n104          14                                     Up with People        NaN\n105          14     Grambling State University Tiger Marching Band        NaN\n106          13                                       Ken Hamilton        NaN\n107          13                                           Gramacks        NaN\n108          12                   Tyler Junior College Apache Band        NaN\n109          12                                      Pete Fountain        NaN\n110          12                                            Al Hirt        NaN\n111          11  Los Angeles Unified School District All City H...        NaN\n112          10                                     Up with People        NaN\n113           9                                   Mercer Ellington        NaN\n114           9     Grambling State University Tiger Marching Band        NaN\n115           8                  University of Texas Longhorn Band        NaN\n116           8                                       Judy Mallett        NaN\n117           7               University of Michigan Marching Band        NaN\n118           7                                       Woody Herman        NaN\n119           7                                      Andy Williams        NaN\n120           6                                    Ella Fitzgerald        NaN\n121           6                                     Carol Channing        NaN\n122           6                                            Al Hirt        NaN\n123           6      United States Air Force Academy Cadet Chorale        NaN\n124           5             Southeast Missouri State Marching Band        NaN\n125           4                                  Marguerite Piazza        NaN\n126           4                                     Doc Severinsen        NaN\n127           4                                            Al Hirt        NaN\n128           4                                  The Human Jukebox        NaN\n129           3           Florida A&M University Marching 100 Band        NaN\n130           2     Grambling State University Tiger Marching Band        NaN\n131           1      University of Arizona Symphonic Marching Band        NaN\n132           1     Grambling State University Tiger Marching Band        NaN\n133           1                                            Al Hirt        NaN",
      "text/html": "<div>\n<style scoped>\n    .dataframe tbody tr th:only-of-type {\n        vertical-align: middle;\n    }\n\n    .dataframe tbody tr th {\n        vertical-align: top;\n    }\n\n    .dataframe thead th {\n        text-align: right;\n    }\n</style>\n<table border=\"1\" class=\"dataframe\">\n  <thead>\n    <tr style=\"text-align: right;\">\n      <th></th>\n      <th>super_bowl</th>\n      <th>musician</th>\n      <th>num_songs</th>\n    </tr>\n  </thead>\n  <tbody>\n    <tr>\n      <th>80</th>\n      <td>27</td>\n      <td>Michael Jackson</td>\n      <td>5.0</td>\n    </tr>\n    <tr>\n      <th>81</th>\n      <td>26</td>\n      <td>Gloria Estefan</td>\n      <td>2.0</td>\n    </tr>\n    <tr>\n      <th>82</th>\n      <td>26</td>\n      <td>University of Minnesota Marching Band</td>\n      <td>NaN</td>\n    </tr>\n    <tr>\n      <th>83</th>\n      <td>25</td>\n      <td>New Kids on the Block</td>\n      <td>2.0</td>\n    </tr>\n    <tr>\n      <th>84</th>\n      <td>24</td>\n      <td>Pete Fountain</td>\n      <td>1.0</td>\n    </tr>\n    <tr>\n      <th>85</th>\n      <td>24</td>\n      <td>Doug Kershaw</td>\n      <td>1.0</td>\n    </tr>\n    <tr>\n      <th>86</th>\n      <td>24</td>\n      <td>Irma Thomas</td>\n      <td>1.0</td>\n    </tr>\n    <tr>\n      <th>87</th>\n      <td>24</td>\n      <td>Pride of Nicholls Marching Band</td>\n      <td>NaN</td>\n    </tr>\n    <tr>\n      <th>88</th>\n      <td>24</td>\n      <td>The Human Jukebox</td>\n      <td>NaN</td>\n    </tr>\n    <tr>\n      <th>89</th>\n      <td>24</td>\n      <td>Pride of Acadiana</td>\n      <td>NaN</td>\n    </tr>\n    <tr>\n      <th>90</th>\n      <td>23</td>\n      <td>Elvis Presto</td>\n      <td>7.0</td>\n    </tr>\n    <tr>\n      <th>91</th>\n      <td>22</td>\n      <td>Chubby Checker</td>\n      <td>2.0</td>\n    </tr>\n    <tr>\n      <th>92</th>\n      <td>22</td>\n      <td>San Diego State University Marching Aztecs</td>\n      <td>NaN</td>\n    </tr>\n    <tr>\n      <th>93</th>\n      <td>22</td>\n      <td>Spirit of Troy</td>\n      <td>NaN</td>\n    </tr>\n    <tr>\n      <th>94</th>\n      <td>21</td>\n      <td>Grambling State University Tiger Marching Band</td>\n      <td>8.0</td>\n    </tr>\n    <tr>\n      <th>95</th>\n      <td>21</td>\n      <td>Spirit of Troy</td>\n      <td>8.0</td>\n    </tr>\n    <tr>\n      <th>96</th>\n      <td>20</td>\n      <td>Up with People</td>\n      <td>NaN</td>\n    </tr>\n    <tr>\n      <th>97</th>\n      <td>19</td>\n      <td>Tops In Blue</td>\n      <td>NaN</td>\n    </tr>\n    <tr>\n      <th>98</th>\n      <td>18</td>\n      <td>The University of Florida Fightin' Gator March...</td>\n      <td>7.0</td>\n    </tr>\n    <tr>\n      <th>99</th>\n      <td>18</td>\n      <td>The Florida State University Marching Chiefs</td>\n      <td>7.0</td>\n    </tr>\n    <tr>\n      <th>100</th>\n      <td>17</td>\n      <td>Los Angeles Unified School District All City H...</td>\n      <td>NaN</td>\n    </tr>\n    <tr>\n      <th>101</th>\n      <td>16</td>\n      <td>Up with People</td>\n      <td>NaN</td>\n    </tr>\n    <tr>\n      <th>102</th>\n      <td>15</td>\n      <td>The Human Jukebox</td>\n      <td>NaN</td>\n    </tr>\n    <tr>\n      <th>103</th>\n      <td>15</td>\n      <td>Helen O'Connell</td>\n      <td>NaN</td>\n    </tr>\n    <tr>\n      <th>104</th>\n      <td>14</td>\n      <td>Up with People</td>\n      <td>NaN</td>\n    </tr>\n    <tr>\n      <th>105</th>\n      <td>14</td>\n      <td>Grambling State University Tiger Marching Band</td>\n      <td>NaN</td>\n    </tr>\n    <tr>\n      <th>106</th>\n      <td>13</td>\n      <td>Ken Hamilton</td>\n      <td>NaN</td>\n    </tr>\n    <tr>\n      <th>107</th>\n      <td>13</td>\n      <td>Gramacks</td>\n      <td>NaN</td>\n    </tr>\n    <tr>\n      <th>108</th>\n      <td>12</td>\n      <td>Tyler Junior College Apache Band</td>\n      <td>NaN</td>\n    </tr>\n    <tr>\n      <th>109</th>\n      <td>12</td>\n      <td>Pete Fountain</td>\n      <td>NaN</td>\n    </tr>\n    <tr>\n      <th>110</th>\n      <td>12</td>\n      <td>Al Hirt</td>\n      <td>NaN</td>\n    </tr>\n    <tr>\n      <th>111</th>\n      <td>11</td>\n      <td>Los Angeles Unified School District All City H...</td>\n      <td>NaN</td>\n    </tr>\n    <tr>\n      <th>112</th>\n      <td>10</td>\n      <td>Up with People</td>\n      <td>NaN</td>\n    </tr>\n    <tr>\n      <th>113</th>\n      <td>9</td>\n      <td>Mercer Ellington</td>\n      <td>NaN</td>\n    </tr>\n    <tr>\n      <th>114</th>\n      <td>9</td>\n      <td>Grambling State University Tiger Marching Band</td>\n      <td>NaN</td>\n    </tr>\n    <tr>\n      <th>115</th>\n      <td>8</td>\n      <td>University of Texas Longhorn Band</td>\n      <td>NaN</td>\n    </tr>\n    <tr>\n      <th>116</th>\n      <td>8</td>\n      <td>Judy Mallett</td>\n      <td>NaN</td>\n    </tr>\n    <tr>\n      <th>117</th>\n      <td>7</td>\n      <td>University of Michigan Marching Band</td>\n      <td>NaN</td>\n    </tr>\n    <tr>\n      <th>118</th>\n      <td>7</td>\n      <td>Woody Herman</td>\n      <td>NaN</td>\n    </tr>\n    <tr>\n      <th>119</th>\n      <td>7</td>\n      <td>Andy Williams</td>\n      <td>NaN</td>\n    </tr>\n    <tr>\n      <th>120</th>\n      <td>6</td>\n      <td>Ella Fitzgerald</td>\n      <td>NaN</td>\n    </tr>\n    <tr>\n      <th>121</th>\n      <td>6</td>\n      <td>Carol Channing</td>\n      <td>NaN</td>\n    </tr>\n    <tr>\n      <th>122</th>\n      <td>6</td>\n      <td>Al Hirt</td>\n      <td>NaN</td>\n    </tr>\n    <tr>\n      <th>123</th>\n      <td>6</td>\n      <td>United States Air Force Academy Cadet Chorale</td>\n      <td>NaN</td>\n    </tr>\n    <tr>\n      <th>124</th>\n      <td>5</td>\n      <td>Southeast Missouri State Marching Band</td>\n      <td>NaN</td>\n    </tr>\n    <tr>\n      <th>125</th>\n      <td>4</td>\n      <td>Marguerite Piazza</td>\n      <td>NaN</td>\n    </tr>\n    <tr>\n      <th>126</th>\n      <td>4</td>\n      <td>Doc Severinsen</td>\n      <td>NaN</td>\n    </tr>\n    <tr>\n      <th>127</th>\n      <td>4</td>\n      <td>Al Hirt</td>\n      <td>NaN</td>\n    </tr>\n    <tr>\n      <th>128</th>\n      <td>4</td>\n      <td>The Human Jukebox</td>\n      <td>NaN</td>\n    </tr>\n    <tr>\n      <th>129</th>\n      <td>3</td>\n      <td>Florida A&amp;M University Marching 100 Band</td>\n      <td>NaN</td>\n    </tr>\n    <tr>\n      <th>130</th>\n      <td>2</td>\n      <td>Grambling State University Tiger Marching Band</td>\n      <td>NaN</td>\n    </tr>\n    <tr>\n      <th>131</th>\n      <td>1</td>\n      <td>University of Arizona Symphonic Marching Band</td>\n      <td>NaN</td>\n    </tr>\n    <tr>\n      <th>132</th>\n      <td>1</td>\n      <td>Grambling State University Tiger Marching Band</td>\n      <td>NaN</td>\n    </tr>\n    <tr>\n      <th>133</th>\n      <td>1</td>\n      <td>Al Hirt</td>\n      <td>NaN</td>\n    </tr>\n  </tbody>\n</table>\n</div>"
     },
     "execution_count": 9,
     "metadata": {},
     "output_type": "execute_result"
    }
   ]
  },
  {
   "metadata": {
    "dc": {
     "key": "52"
    },
    "deletable": false,
    "editable": false,
    "run_control": {
     "frozen": true
    },
    "tags": [
     "context"
    ]
   },
   "cell_type": "markdown",
   "source": [
    "## 8. Who has the most halftime show appearances?\n",
    "<p>Lots of marching bands. American jazz clarinetist Pete Fountain. Miss Texas 1973 playing a violin. Nothing against those performers, they're just simply not <a href=\"https://www.youtube.com/watch?v=suIg9kTGBVI\">Beyoncé</a>. To be fair, no one is.</p>\n",
    "<p>Let's see all of the musicians that have done more than one halftime show, including their performance counts.</p>"
   ]
  },
  {
   "metadata": {
    "dc": {
     "key": "52"
    },
    "tags": [
     "sample_code"
    ],
    "trusted": true
   },
   "cell_type": "code",
   "source": [
    "# Count halftime show appearances for each musician and sort them from most to least\n",
    "halftime_appearances = halftime_musicians.groupby('musician').count()['super_bowl'].reset_index()\n",
    "halftime_appearances = halftime_appearances.sort_values('super_bowl', ascending=False)\n",
    "\n",
    "# Display musicians with more than one halftime show appearance\n",
    "halftime_appearances[halftime_appearances['super_bowl'] > 1]"
   ],
   "execution_count": 10,
   "outputs": [
    {
     "data": {
      "text/plain": "                                              musician  super_bowl\n28      Grambling State University Tiger Marching Band           6\n104                                     Up with People           4\n1                                              Al Hirt           4\n83                                   The Human Jukebox           3\n76                                      Spirit of Troy           2\n25            Florida A&M University Marching 100 Band           2\n26                                      Gloria Estefan           2\n102              University of Minnesota Marching Band           2\n10                                          Bruno Mars           2\n64                                       Pete Fountain           2\n5                                              Beyoncé           2\n36                                   Justin Timberlake           2\n57                                               Nelly           2\n44   Los Angeles Unified School District All City H...           2",
      "text/html": "<div>\n<style scoped>\n    .dataframe tbody tr th:only-of-type {\n        vertical-align: middle;\n    }\n\n    .dataframe tbody tr th {\n        vertical-align: top;\n    }\n\n    .dataframe thead th {\n        text-align: right;\n    }\n</style>\n<table border=\"1\" class=\"dataframe\">\n  <thead>\n    <tr style=\"text-align: right;\">\n      <th></th>\n      <th>musician</th>\n      <th>super_bowl</th>\n    </tr>\n  </thead>\n  <tbody>\n    <tr>\n      <th>28</th>\n      <td>Grambling State University Tiger Marching Band</td>\n      <td>6</td>\n    </tr>\n    <tr>\n      <th>104</th>\n      <td>Up with People</td>\n      <td>4</td>\n    </tr>\n    <tr>\n      <th>1</th>\n      <td>Al Hirt</td>\n      <td>4</td>\n    </tr>\n    <tr>\n      <th>83</th>\n      <td>The Human Jukebox</td>\n      <td>3</td>\n    </tr>\n    <tr>\n      <th>76</th>\n      <td>Spirit of Troy</td>\n      <td>2</td>\n    </tr>\n    <tr>\n      <th>25</th>\n      <td>Florida A&amp;M University Marching 100 Band</td>\n      <td>2</td>\n    </tr>\n    <tr>\n      <th>26</th>\n      <td>Gloria Estefan</td>\n      <td>2</td>\n    </tr>\n    <tr>\n      <th>102</th>\n      <td>University of Minnesota Marching Band</td>\n      <td>2</td>\n    </tr>\n    <tr>\n      <th>10</th>\n      <td>Bruno Mars</td>\n      <td>2</td>\n    </tr>\n    <tr>\n      <th>64</th>\n      <td>Pete Fountain</td>\n      <td>2</td>\n    </tr>\n    <tr>\n      <th>5</th>\n      <td>Beyoncé</td>\n      <td>2</td>\n    </tr>\n    <tr>\n      <th>36</th>\n      <td>Justin Timberlake</td>\n      <td>2</td>\n    </tr>\n    <tr>\n      <th>57</th>\n      <td>Nelly</td>\n      <td>2</td>\n    </tr>\n    <tr>\n      <th>44</th>\n      <td>Los Angeles Unified School District All City H...</td>\n      <td>2</td>\n    </tr>\n  </tbody>\n</table>\n</div>"
     },
     "execution_count": 10,
     "metadata": {},
     "output_type": "execute_result"
    }
   ]
  },
  {
   "metadata": {
    "dc": {
     "key": "59"
    },
    "deletable": false,
    "editable": false,
    "run_control": {
     "frozen": true
    },
    "tags": [
     "context"
    ]
   },
   "cell_type": "markdown",
   "source": [
    "## 9. Who performed the most songs in a halftime show?\n",
    "<p>The world famous <a href=\"https://www.youtube.com/watch?v=RL_3oqpHiDg\">Grambling State University Tiger Marching Band</a> takes the crown with six appearances. Beyoncé, Justin Timberlake, Nelly, and Bruno Mars are the only post-Y2K musicians with multiple appearances (two each).</p>\n",
    "<p>From our previous inspections, the <code>num_songs</code> column has lots of missing values:</p>\n",
    "<ul>\n",
    "<li>A lot of the marching bands don't have <code>num_songs</code> entries.</li>\n",
    "<li>For non-marching bands, missing data starts occurring at Super Bowl XX.</li>\n",
    "</ul>\n",
    "<p>Let's filter out marching bands by filtering out musicians with the word \"Marching\" in them and the word \"Spirit\" (a common naming convention for marching bands is \"Spirit of [something]\"). Then we'll filter for Super Bowls after Super Bowl XX to address the missing data issue, <em>then</em> let's see who has the most number of songs.</p>"
   ]
  },
  {
   "metadata": {
    "dc": {
     "key": "59"
    },
    "tags": [
     "sample_code"
    ],
    "trusted": true,
    "pycharm": {
     "name": "#%%\n"
    }
   },
   "cell_type": "code",
   "source": [
    "# Filter out most marching bands\n",
    "no_bands = halftime_musicians[~halftime_musicians.musician.str.contains('Marching')]\n",
    "no_bands = no_bands[~no_bands.musician.str.contains('Spirit')]\n",
    "\n",
    "# Plot a histogram of number of songs per performance\n",
    "most_songs = int(max(no_bands['num_songs'].values))\n",
    "plt.hist(no_bands.num_songs.dropna(), bins=most_songs)\n",
    "# ... YOUR CODE FOR TASK 9 ...\n",
    "plt.xlabel('Number of Songs Per Halftime Show Performance')\n",
    "plt.ylabel('Number of Musicians')\n",
    "plt.show()\n",
    "\n",
    "# Sort the non-band musicians by number of songs per appearance...\n",
    "no_bands = no_bands.sort_values('num_songs', ascending=False)\n",
    "# ...and display the top 15\n",
    "print(no_bands[:15])\n"
   ],
   "execution_count": 12,
   "outputs": [
    {
     "data": {
      "text/plain": "<Figure size 432x288 with 1 Axes>",
      "image/png": "[encoded data removed]"
     },
     "metadata": {},
     "output_type": "display_data"
    },
    {
     "name": "stdout",
     "output_type": "stream",
     "text": [
      "    super_bowl             musician  num_songs\n",
      "0           52    Justin Timberlake       11.0\n",
      "70          30           Diana Ross       10.0\n",
      "10          49           Katy Perry        8.0\n",
      "2           51            Lady Gaga        7.0\n",
      "90          23         Elvis Presto        7.0\n",
      "33          41               Prince        7.0\n",
      "16          47              Beyoncé        7.0\n",
      "14          48           Bruno Mars        6.0\n",
      "3           50             Coldplay        6.0\n",
      "25          45  The Black Eyed Peas        6.0\n",
      "20          46              Madonna        5.0\n",
      "30          44              The Who        5.0\n",
      "80          27      Michael Jackson        5.0\n",
      "64          32      The Temptations        4.0\n",
      "36          39       Paul McCartney        4.0\n"
     ]
    }
   ]
  },
  {
   "cell_type": "code",
   "execution_count": null,
   "outputs": [],
   "source": [],
   "metadata": {
    "collapsed": false,
    "pycharm": {
     "name": "#%%\n"
    }
   }
  }
 ],
 "metadata": {
  "kernelspec": {
   "name": "python3",
   "display_name": "Python 3",
   "language": "python"
  },
  "language_info": {
   "name": "python",
   "version": "3.6.7",
   "mimetype": "text/x-python",
   "codemirror_mode": {
    "name": "ipython",
    "version": 3
   },
   "pygments_lexer": "ipython3",
   "nbconvert_exporter": "python",
   "file_extension": ".py"
  }
 },
 "nbformat": 4,
 "nbformat_minor": 2
}