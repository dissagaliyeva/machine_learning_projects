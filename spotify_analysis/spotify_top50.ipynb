{
 "cells": [
  {
   "cell_type": "markdown",
   "metadata": {
    "collapsed": true,
    "pycharm": {
     "name": "#%% md\n"
    }
   },
   "source": []
  },
  {
   "cell_type": "code",
   "execution_count": 4,
   "outputs": [],
   "source": [
    "# First, import all packages\n",
    "import pandas as pd\n",
    "import numpy as np\n",
    "import matplotlib.pyplot as plt\n",
    "import seaborn as sns\n",
    "\n",
    "from sklearn.model_selection import train_test_split\n",
    "from sklearn.neighbors import KNeighborsClassifier\n",
    "from sklearn.metrics import accuracy_score\n",
    "from sklearn.preprocessing import StandardScaler\n",
    "from sklearn.preprocessing import LabelEncoder\n",
    "\n",
    "%matplotlib inline\n",
    "sns.set()"
   ],
   "metadata": {
    "collapsed": false,
    "pycharm": {
     "name": "#%%\n"
    }
   }
  },
  {
   "cell_type": "code",
   "execution_count": 5,
   "outputs": [
    {
     "name": "stdout",
     "output_type": "stream",
     "text": [
      "   Rank                       Track.Name    Artist.Name           Genre  \\\n",
      "0     1                         Senorita   Shawn Mendes    canadian pop   \n",
      "1     2                            China       Anuel AA  reggaeton flow   \n",
      "2     3    boyfriend (with Social House)  Ariana Grande       dance pop   \n",
      "3     4  Beautiful People (feat. Khalid)     Ed Sheeran             pop   \n",
      "4     5      Goodbyes (Feat. Young Thug)    Post Malone         dfw rap   \n",
      "\n",
      "   Beats.Per.Minute  Energy  Danceability  Loudness..dB..  Liveness  Valence.  \\\n",
      "0               117      55            76              -6         8        75   \n",
      "1               105      81            79              -4         8        61   \n",
      "2               190      80            40              -4        16        70   \n",
      "3                93      65            64              -8         8        55   \n",
      "4               150      65            58              -4        11        18   \n",
      "\n",
      "   Length.  Acousticness..  Speechiness.  Popularity  \n",
      "0      191               4             3          79  \n",
      "1      302               8             9          92  \n",
      "2      186              12            46          85  \n",
      "3      198              12            19          86  \n",
      "4      175              45             7          94  \n"
     ]
    }
   ],
   "source": [
    "# load the data\n",
    "songs = pd.read_csv('datasets/top50.csv')\n",
    "print(songs.head())"
   ],
   "metadata": {
    "collapsed": false,
    "pycharm": {
     "name": "#%%\n"
    }
   }
  },
  {
   "cell_type": "markdown",
   "source": [
    "We can clearly see that the columns' names are hard to read, therefore let's make it more readable"
   ],
   "metadata": {
    "collapsed": false,
    "pycharm": {
     "name": "#%% md\n"
    }
   }
  },
  {
   "cell_type": "code",
   "execution_count": 6,
   "outputs": [
    {
     "data": {
      "text/plain": "   Rank                       Track Name    Artist Name           Genre  \\\n0     1                         Senorita   Shawn Mendes    canadian pop   \n1     2                            China       Anuel AA  reggaeton flow   \n2     3    boyfriend (with Social House)  Ariana Grande       dance pop   \n3     4  Beautiful People (feat. Khalid)     Ed Sheeran             pop   \n4     5      Goodbyes (Feat. Young Thug)    Post Malone         dfw rap   \n\n   Beats Per Minute  Energy  Danceability  Loudness  Liveness  Valence  \\\n0               117      55            76        -6         8       75   \n1               105      81            79        -4         8       61   \n2               190      80            40        -4        16       70   \n3                93      65            64        -8         8       55   \n4               150      65            58        -4        11       18   \n\n   Length  Acousticness  Speechiness  Popularity  \n0     191             4            3          79  \n1     302             8            9          92  \n2     186            12           46          85  \n3     198            12           19          86  \n4     175            45            7          94  ",
      "text/html": "<div>\n<style scoped>\n    .dataframe tbody tr th:only-of-type {\n        vertical-align: middle;\n    }\n\n    .dataframe tbody tr th {\n        vertical-align: top;\n    }\n\n    .dataframe thead th {\n        text-align: right;\n    }\n</style>\n<table border=\"1\" class=\"dataframe\">\n  <thead>\n    <tr style=\"text-align: right;\">\n      <th></th>\n      <th>Rank</th>\n      <th>Track Name</th>\n      <th>Artist Name</th>\n      <th>Genre</th>\n      <th>Beats Per Minute</th>\n      <th>Energy</th>\n      <th>Danceability</th>\n      <th>Loudness</th>\n      <th>Liveness</th>\n      <th>Valence</th>\n      <th>Length</th>\n      <th>Acousticness</th>\n      <th>Speechiness</th>\n      <th>Popularity</th>\n    </tr>\n  </thead>\n  <tbody>\n    <tr>\n      <th>0</th>\n      <td>1</td>\n      <td>Senorita</td>\n      <td>Shawn Mendes</td>\n      <td>canadian pop</td>\n      <td>117</td>\n      <td>55</td>\n      <td>76</td>\n      <td>-6</td>\n      <td>8</td>\n      <td>75</td>\n      <td>191</td>\n      <td>4</td>\n      <td>3</td>\n      <td>79</td>\n    </tr>\n    <tr>\n      <th>1</th>\n      <td>2</td>\n      <td>China</td>\n      <td>Anuel AA</td>\n      <td>reggaeton flow</td>\n      <td>105</td>\n      <td>81</td>\n      <td>79</td>\n      <td>-4</td>\n      <td>8</td>\n      <td>61</td>\n      <td>302</td>\n      <td>8</td>\n      <td>9</td>\n      <td>92</td>\n    </tr>\n    <tr>\n      <th>2</th>\n      <td>3</td>\n      <td>boyfriend (with Social House)</td>\n      <td>Ariana Grande</td>\n      <td>dance pop</td>\n      <td>190</td>\n      <td>80</td>\n      <td>40</td>\n      <td>-4</td>\n      <td>16</td>\n      <td>70</td>\n      <td>186</td>\n      <td>12</td>\n      <td>46</td>\n      <td>85</td>\n    </tr>\n    <tr>\n      <th>3</th>\n      <td>4</td>\n      <td>Beautiful People (feat. Khalid)</td>\n      <td>Ed Sheeran</td>\n      <td>pop</td>\n      <td>93</td>\n      <td>65</td>\n      <td>64</td>\n      <td>-8</td>\n      <td>8</td>\n      <td>55</td>\n      <td>198</td>\n      <td>12</td>\n      <td>19</td>\n      <td>86</td>\n    </tr>\n    <tr>\n      <th>4</th>\n      <td>5</td>\n      <td>Goodbyes (Feat. Young Thug)</td>\n      <td>Post Malone</td>\n      <td>dfw rap</td>\n      <td>150</td>\n      <td>65</td>\n      <td>58</td>\n      <td>-4</td>\n      <td>11</td>\n      <td>18</td>\n      <td>175</td>\n      <td>45</td>\n      <td>7</td>\n      <td>94</td>\n    </tr>\n  </tbody>\n</table>\n</div>"
     },
     "execution_count": 6,
     "metadata": {},
     "output_type": "execute_result"
    }
   ],
   "source": [
    "songs.columns = songs.columns.str.replace('\\.|db|dB', ' ').str.strip()\n",
    "songs.head()"
   ],
   "metadata": {
    "collapsed": false,
    "pycharm": {
     "name": "#%%\n"
    }
   }
  },
  {
   "cell_type": "markdown",
   "source": [
    "Let's convert the data types and clean the genres\n"
   ],
   "metadata": {
    "collapsed": false,
    "pycharm": {
     "name": "#%% md\n"
    }
   }
  },
  {
   "cell_type": "code",
   "execution_count": 8,
   "outputs": [
    {
     "name": "stdout",
     "output_type": "stream",
     "text": [
      "['big room' 'boy band' 'brostep' 'edm' 'hip hop' 'pop' 'r&b' 'rap'\n",
      " 'reggaeton']\n"
     ]
    },
    {
     "name": "stderr",
     "output_type": "stream",
     "text": [
      "c:\\users\\dinar\\appdata\\local\\programs\\python\\python38\\lib\\site-packages\\pandas\\core\\indexing.py:670: SettingWithCopyWarning: \n",
      "A value is trying to be set on a copy of a slice from a DataFrame\n",
      "\n",
      "See the caveats in the documentation: https://pandas.pydata.org/pandas-docs/stable/user_guide/indexing.html#returning-a-view-versus-a-copy\n",
      "  iloc._setitem_with_indexer(indexer, value)\n"
     ]
    }
   ],
   "source": [
    "# print(songs.info())\n",
    "\n",
    "genres = np.unique(songs.Genre)\n",
    "print(genres)\n",
    "\n",
    "song_types = songs.Genre\n",
    "song_types.loc[song_types.str.contains('hip hop')] = 'hip hop'\n",
    "song_types.loc[song_types.str.contains('pop')] = 'pop'\n",
    "song_types.loc[song_types.str.contains('rap')] = 'rap'\n",
    "song_types.loc[song_types.str.contains('reggaeton') | song_types.str.contains('latin')] = 'reggaeton'\n",
    "song_types.loc[song_types.str.contains('r&b') | song_types.str.contains('escape room')] = 'r&b'\n",
    "songs.drop('Genre', axis=1, inplace=True)\n",
    "songs['Genre'] = song_types.values\n"
   ],
   "metadata": {
    "collapsed": false,
    "pycharm": {
     "name": "#%%\n"
    }
   }
  },
  {
   "cell_type": "code",
   "execution_count": 10,
   "outputs": [
    {
     "name": "stdout",
     "output_type": "stream",
     "text": [
      "['big room' 'boy band' 'brostep' 'edm' 'hip hop' 'pop' 'r&b' 'rap'\n",
      " 'reggaeton']\n"
     ]
    }
   ],
   "source": [
    "genres = np.unique(songs.Genre)\n",
    "print(genres)\n",
    "\n",
    "X = songs.drop(['Rank', 'Track Name', 'Artist Name', 'Genre'], axis=1).values\n",
    "y = songs['Genre'].values\n",
    "y = LabelEncoder().fit_transform(y)\n"
   ],
   "metadata": {
    "collapsed": false,
    "pycharm": {
     "name": "#%%\n"
    }
   }
  },
  {
   "cell_type": "markdown",
   "source": [
    "transform data\n"
   ],
   "metadata": {
    "collapsed": false,
    "pycharm": {
     "name": "#%% md\n"
    }
   }
  },
  {
   "cell_type": "code",
   "execution_count": 50,
   "outputs": [
    {
     "name": "stdout",
     "output_type": "stream",
     "text": [
      "[5 8 5 5 7 5 7 5 7 5 8 5 5 5 4 5 8 7 4 6 5 7 8 8 5 5 5 4 8 8 3 5 8 4 5 0 5\n",
      " 5 1 5 3 5 5 5 6 2 8 2 3 5]\n"
     ]
    }
   ],
   "source": [
    "print(y)\n",
    "X_transformed = StandardScaler().fit_transform(X)\n",
    "\n",
    "X_train, X_test, y_train, y_test = train_test_split(X_transformed, y, random_state=42, test_size=0.3)\n",
    "\n",
    "# check neighbors & find the best\n",
    "neighbors = np.arange(1, 15)\n",
    "train_results = []\n",
    "test_results = []\n",
    "\n",
    "for idx, neighbor in enumerate(neighbors):\n",
    "    knn = KNeighborsClassifier(n_neighbors=neighbor).fit(X_train, y_train)\n",
    "    train_results.append(knn.score(X_train, y_train))\n",
    "    test_results.append(knn.score(X_test, y_test))\n"
   ],
   "metadata": {
    "collapsed": false,
    "pycharm": {
     "name": "#%%\n"
    }
   }
  },
  {
   "cell_type": "code",
   "execution_count": 51,
   "outputs": [
    {
     "data": {
      "text/plain": "<Figure size 576x576 with 1 Axes>",
      "image/png": "[encoded data removed]"
     },
     "metadata": {},
     "output_type": "display_data"
    }
   ],
   "source": [
    "plt.figure(figsize=(8, 8))\n",
    "plt.title('Train & Test results')\n",
    "plt.plot(neighbors, train_results, label='train results', color='lightblue')\n",
    "plt.plot(neighbors, test_results, label='test results', color='red')\n",
    "plt.legend()\n",
    "plt.show()\n"
   ],
   "metadata": {
    "collapsed": false,
    "pycharm": {
     "name": "#%%\n"
    }
   }
  },
  {
   "cell_type": "markdown",
   "source": [
    "## Classification Report w/ 7 neighbors\n"
   ],
   "metadata": {
    "collapsed": false,
    "pycharm": {
     "name": "#%% md\n"
    }
   }
  },
  {
   "cell_type": "code",
   "execution_count": 52,
   "outputs": [
    {
     "name": "stdout",
     "output_type": "stream",
     "text": [
      "[[0 0 0 1 0 0 0]\n",
      " [0 0 0 2 0 0 0]\n",
      " [0 0 0 0 0 0 0]\n",
      " [0 0 0 6 0 0 1]\n",
      " [0 0 0 1 0 0 0]\n",
      " [0 0 1 2 0 0 0]\n",
      " [0 0 0 1 0 0 0]]\n",
      "              precision    recall  f1-score   support\n",
      "\n",
      "           2       0.00      0.00      0.00         1\n",
      "           3       0.00      0.00      0.00         2\n",
      "           4       0.00      0.00      0.00         0\n",
      "           5       0.46      0.86      0.60         7\n",
      "           6       0.00      0.00      0.00         1\n",
      "           7       0.00      0.00      0.00         3\n",
      "           8       0.00      0.00      0.00         1\n",
      "\n",
      "    accuracy                           0.40        15\n",
      "   macro avg       0.07      0.12      0.09        15\n",
      "weighted avg       0.22      0.40      0.28        15\n",
      "\n"
     ]
    },
    {
     "name": "stderr",
     "output_type": "stream",
     "text": [
      "c:\\users\\dinar\\appdata\\local\\programs\\python\\python38\\lib\\site-packages\\sklearn\\metrics\\_classification.py:1221: UndefinedMetricWarning: Precision and F-score are ill-defined and being set to 0.0 in labels with no predicted samples. Use `zero_division` parameter to control this behavior.\n",
      "  _warn_prf(average, modifier, msg_start, len(result))\n",
      "c:\\users\\dinar\\appdata\\local\\programs\\python\\python38\\lib\\site-packages\\sklearn\\metrics\\_classification.py:1221: UndefinedMetricWarning: Recall and F-score are ill-defined and being set to 0.0 in labels with no true samples. Use `zero_division` parameter to control this behavior.\n",
      "  _warn_prf(average, modifier, msg_start, len(result))\n"
     ]
    }
   ],
   "source": [
    "from sklearn.metrics import classification_report\n",
    "from sklearn.metrics import confusion_matrix\n",
    "\n",
    "knn = KNeighborsClassifier(n_neighbors=7).fit(X_train, y_train)\n",
    "y_pred = knn.predict(X_test)\n",
    "print(confusion_matrix(y_test, y_pred))\n",
    "print(classification_report(y_test, y_pred))"
   ],
   "metadata": {
    "collapsed": false,
    "pycharm": {
     "name": "#%%\n"
    }
   }
  },
  {
   "cell_type": "code",
   "execution_count": 53,
   "outputs": [
    {
     "name": "stdout",
     "output_type": "stream",
     "text": [
      "Score: 0.4\n",
      "[[0 0 0 0 0 1]\n",
      " [0 0 2 0 0 0]\n",
      " [0 0 6 0 0 1]\n",
      " [0 0 1 0 0 0]\n",
      " [0 0 2 0 0 1]\n",
      " [0 0 1 0 0 0]]\n",
      "              precision    recall  f1-score   support\n",
      "\n",
      "           2       0.00      0.00      0.00         1\n",
      "           3       0.00      0.00      0.00         2\n",
      "           5       0.50      0.86      0.63         7\n",
      "           6       0.00      0.00      0.00         1\n",
      "           7       0.00      0.00      0.00         3\n",
      "           8       0.00      0.00      0.00         1\n",
      "\n",
      "    accuracy                           0.40        15\n",
      "   macro avg       0.08      0.14      0.11        15\n",
      "weighted avg       0.23      0.40      0.29        15\n",
      "\n"
     ]
    },
    {
     "name": "stderr",
     "output_type": "stream",
     "text": [
      "c:\\users\\dinar\\appdata\\local\\programs\\python\\python38\\lib\\site-packages\\sklearn\\metrics\\_classification.py:1221: UndefinedMetricWarning: Precision and F-score are ill-defined and being set to 0.0 in labels with no predicted samples. Use `zero_division` parameter to control this behavior.\n",
      "  _warn_prf(average, modifier, msg_start, len(result))\n"
     ]
    }
   ],
   "source": [
    "# compare with RandomForest\n",
    "from sklearn.ensemble import RandomForestClassifier\n",
    "\n",
    "clf = RandomForestClassifier(random_state=42).fit(X_train, y_train)\n",
    "clf_pred = clf.predict(X_test)\n",
    "print(f'Score: {clf.score(X_test, y_test)}')\n",
    "print(confusion_matrix(y_test, clf_pred))\n",
    "print(classification_report(y_test, clf_pred))"
   ],
   "metadata": {
    "collapsed": false,
    "pycharm": {
     "name": "#%%\n"
    }
   }
  },
  {
   "cell_type": "code",
   "execution_count": 54,
   "outputs": [
    {
     "name": "stdout",
     "output_type": "stream",
     "text": [
      "Score: 0.4\n",
      "[[0 0 0 0 0 0 0 0]\n",
      " [0 0 0 1 0 0 0 0]\n",
      " [0 0 0 0 2 0 0 0]\n",
      " [0 0 0 0 0 0 0 0]\n",
      " [1 0 0 0 5 0 0 1]\n",
      " [0 0 0 0 0 0 1 0]\n",
      " [1 0 0 0 0 1 1 0]\n",
      " [0 0 0 0 1 0 0 0]]\n",
      "              precision    recall  f1-score   support\n",
      "\n",
      "           1       0.00      0.00      0.00         0\n",
      "           2       0.00      0.00      0.00         1\n",
      "           3       0.00      0.00      0.00         2\n",
      "           4       0.00      0.00      0.00         0\n",
      "           5       0.62      0.71      0.67         7\n",
      "           6       0.00      0.00      0.00         1\n",
      "           7       0.50      0.33      0.40         3\n",
      "           8       0.00      0.00      0.00         1\n",
      "\n",
      "    accuracy                           0.40        15\n",
      "   macro avg       0.14      0.13      0.13        15\n",
      "weighted avg       0.39      0.40      0.39        15\n",
      "\n"
     ]
    },
    {
     "name": "stderr",
     "output_type": "stream",
     "text": [
      "c:\\users\\dinar\\appdata\\local\\programs\\python\\python38\\lib\\site-packages\\sklearn\\metrics\\_classification.py:1221: UndefinedMetricWarning: Precision and F-score are ill-defined and being set to 0.0 in labels with no predicted samples. Use `zero_division` parameter to control this behavior.\n",
      "  _warn_prf(average, modifier, msg_start, len(result))\n",
      "c:\\users\\dinar\\appdata\\local\\programs\\python\\python38\\lib\\site-packages\\sklearn\\metrics\\_classification.py:1221: UndefinedMetricWarning: Recall and F-score are ill-defined and being set to 0.0 in labels with no true samples. Use `zero_division` parameter to control this behavior.\n",
      "  _warn_prf(average, modifier, msg_start, len(result))\n"
     ]
    }
   ],
   "source": [
    "# compare with LinearCVS\n",
    "from sklearn.svm import LinearSVC\n",
    "svc = LinearSVC(random_state=0, tol=1e-8).fit(X_train, y_train)\n",
    "svc_pred = svc.predict(X_test)\n",
    "print(f'Score: {svc.score(X_test, y_test)}')\n",
    "print(confusion_matrix(y_test, svc_pred))\n",
    "print(classification_report(y_test, svc_pred))"
   ],
   "metadata": {
    "collapsed": false,
    "pycharm": {
     "name": "#%%\n"
    }
   }
  },
  {
   "cell_type": "code",
   "execution_count": 49,
   "outputs": [],
   "source": [],
   "metadata": {
    "collapsed": false,
    "pycharm": {
     "name": "#%%\n"
    }
   }
  },
  {
   "cell_type": "code",
   "execution_count": 49,
   "outputs": [],
   "source": [],
   "metadata": {
    "collapsed": false,
    "pycharm": {
     "name": "#%%\n"
    }
   }
  },
  {
   "cell_type": "code",
   "execution_count": null,
   "outputs": [],
   "source": [],
   "metadata": {
    "collapsed": false,
    "pycharm": {
     "name": "#%%\n"
    }
   }
  }
 ],
 "metadata": {
  "kernelspec": {
   "display_name": "Python 3",
   "language": "python",
   "name": "python3"
  },
  "language_info": {
   "codemirror_mode": {
    "name": "ipython",
    "version": 2
   },
   "file_extension": ".py",
   "mimetype": "text/x-python",
   "name": "python",
   "nbconvert_exporter": "python",
   "pygments_lexer": "ipython2",
   "version": "2.7.6"
  }
 },
 "nbformat": 4,
 "nbformat_minor": 0
}